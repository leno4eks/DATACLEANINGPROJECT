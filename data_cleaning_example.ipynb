{
 "cells": [
  {
   "cell_type": "markdown",
   "id": "10914fcd",
   "metadata": {},
   "source": [
    "# Очистка данных на примере датасета о квартирах в Москве"
   ]
  },
  {
   "cell_type": "code",
   "execution_count": 68,
   "id": "d736459f-4c1e-4e3c-a6b2-e41147b3fd60",
   "metadata": {
    "tags": []
   },
   "outputs": [],
   "source": [
    "import numpy as np\n",
    "import pandas as pd\n",
    "import matplotlib.pyplot as plt\n",
    "import seaborn as sns"
   ]
  },
  {
   "cell_type": "markdown",
   "id": "35a13914-88e3-4f8e-8083-d5d5ca24fe4b",
   "metadata": {},
   "source": [
    "### Знакомство с данными"
   ]
  },
  {
   "cell_type": "markdown",
   "id": "5d0f67f4",
   "metadata": {},
   "source": [
    "Подробнее о данных можно узнать [здесь](./README.md)."
   ]
  },
  {
   "cell_type": "code",
   "execution_count": 69,
   "id": "a335aae4-20f0-496f-a3ca-477990729d23",
   "metadata": {
    "tags": []
   },
   "outputs": [
    {
     "name": "stdout",
     "output_type": "stream",
     "text": [
      "Shape of data: (30471, 61)\n"
     ]
    },
    {
     "data": {
      "application/vnd.microsoft.datawrangler.viewer.v0+json": {
       "columns": [
        {
         "name": "index",
         "rawType": "int64",
         "type": "integer"
        },
        {
         "name": "id",
         "rawType": "int64",
         "type": "integer"
        },
        {
         "name": "full_sq",
         "rawType": "int64",
         "type": "integer"
        },
        {
         "name": "life_sq",
         "rawType": "float64",
         "type": "float"
        },
        {
         "name": "floor",
         "rawType": "float64",
         "type": "float"
        },
        {
         "name": "sub_area",
         "rawType": "object",
         "type": "string"
        },
        {
         "name": "preschool_quota",
         "rawType": "float64",
         "type": "float"
        },
        {
         "name": "preschool_education_centers_raion",
         "rawType": "int64",
         "type": "integer"
        },
        {
         "name": "school_quota",
         "rawType": "float64",
         "type": "float"
        },
        {
         "name": "school_education_centers_raion",
         "rawType": "int64",
         "type": "integer"
        },
        {
         "name": "school_education_centers_top_20_raion",
         "rawType": "int64",
         "type": "integer"
        },
        {
         "name": "hospital_beds_raion",
         "rawType": "float64",
         "type": "float"
        },
        {
         "name": "healthcare_centers_raion",
         "rawType": "int64",
         "type": "integer"
        },
        {
         "name": "university_top_20_raion",
         "rawType": "int64",
         "type": "integer"
        },
        {
         "name": "sport_objects_raion",
         "rawType": "int64",
         "type": "integer"
        },
        {
         "name": "additional_education_raion",
         "rawType": "int64",
         "type": "integer"
        },
        {
         "name": "culture_objects_top_25_raion",
         "rawType": "int64",
         "type": "integer"
        },
        {
         "name": "shopping_centers_raion",
         "rawType": "int64",
         "type": "integer"
        },
        {
         "name": "office_raion",
         "rawType": "int64",
         "type": "integer"
        },
        {
         "name": "oil_chemistry_raion",
         "rawType": "object",
         "type": "string"
        },
        {
         "name": "railroad_terminal_raion",
         "rawType": "object",
         "type": "string"
        },
        {
         "name": "nuclear_reactor_raion",
         "rawType": "object",
         "type": "string"
        },
        {
         "name": "metro_min_avto",
         "rawType": "float64",
         "type": "float"
        },
        {
         "name": "metro_km_avto",
         "rawType": "float64",
         "type": "float"
        },
        {
         "name": "metro_min_walk",
         "rawType": "float64",
         "type": "float"
        },
        {
         "name": "metro_km_walk",
         "rawType": "float64",
         "type": "float"
        },
        {
         "name": "kindergarten_km",
         "rawType": "float64",
         "type": "float"
        },
        {
         "name": "school_km",
         "rawType": "float64",
         "type": "float"
        },
        {
         "name": "park_km",
         "rawType": "float64",
         "type": "float"
        },
        {
         "name": "green_zone_km",
         "rawType": "float64",
         "type": "float"
        },
        {
         "name": "industrial_km",
         "rawType": "float64",
         "type": "float"
        },
        {
         "name": "railroad_station_walk_km",
         "rawType": "float64",
         "type": "float"
        },
        {
         "name": "railroad_station_walk_min",
         "rawType": "float64",
         "type": "float"
        },
        {
         "name": "public_transport_station_km",
         "rawType": "float64",
         "type": "float"
        },
        {
         "name": "public_transport_station_min_walk",
         "rawType": "float64",
         "type": "float"
        },
        {
         "name": "mkad_km",
         "rawType": "float64",
         "type": "float"
        },
        {
         "name": "ttk_km",
         "rawType": "float64",
         "type": "float"
        },
        {
         "name": "sadovoe_km",
         "rawType": "float64",
         "type": "float"
        },
        {
         "name": "bulvar_ring_km",
         "rawType": "float64",
         "type": "float"
        },
        {
         "name": "kremlin_km",
         "rawType": "float64",
         "type": "float"
        },
        {
         "name": "big_road1_1line",
         "rawType": "object",
         "type": "string"
        },
        {
         "name": "big_market_km",
         "rawType": "float64",
         "type": "float"
        },
        {
         "name": "market_shop_km",
         "rawType": "float64",
         "type": "float"
        },
        {
         "name": "fitness_km",
         "rawType": "float64",
         "type": "float"
        },
        {
         "name": "swim_pool_km",
         "rawType": "float64",
         "type": "float"
        },
        {
         "name": "ice_rink_km",
         "rawType": "float64",
         "type": "float"
        },
        {
         "name": "stadium_km",
         "rawType": "float64",
         "type": "float"
        },
        {
         "name": "basketball_km",
         "rawType": "float64",
         "type": "float"
        },
        {
         "name": "hospice_morgue_km",
         "rawType": "float64",
         "type": "float"
        },
        {
         "name": "university_km",
         "rawType": "float64",
         "type": "float"
        },
        {
         "name": "workplaces_km",
         "rawType": "float64",
         "type": "float"
        },
        {
         "name": "shopping_centers_km",
         "rawType": "float64",
         "type": "float"
        },
        {
         "name": "office_km",
         "rawType": "float64",
         "type": "float"
        },
        {
         "name": "additional_education_km",
         "rawType": "float64",
         "type": "float"
        },
        {
         "name": "preschool_km",
         "rawType": "float64",
         "type": "float"
        },
        {
         "name": "big_church_km",
         "rawType": "float64",
         "type": "float"
        },
        {
         "name": "church_synagogue_km",
         "rawType": "float64",
         "type": "float"
        },
        {
         "name": "theater_km",
         "rawType": "float64",
         "type": "float"
        },
        {
         "name": "museum_km",
         "rawType": "float64",
         "type": "float"
        },
        {
         "name": "ecology",
         "rawType": "object",
         "type": "string"
        },
        {
         "name": "mosque_count_1000",
         "rawType": "int64",
         "type": "integer"
        },
        {
         "name": "price_doc",
         "rawType": "int64",
         "type": "integer"
        }
       ],
       "ref": "1a2763c3-f753-40fe-bbcf-cdcbbf284a28",
       "rows": [
        [
         "0",
         "1",
         "43",
         "27.0",
         "4.0",
         "Bibirevo",
         "5001.0",
         "5",
         "11065.0",
         "5",
         "0",
         "240.0",
         "1",
         "0",
         "7",
         "3",
         "0",
         "16",
         "1",
         "no",
         "no",
         "no",
         "2.590241095",
         "1.131259906",
         "13.57511887",
         "1.131259906",
         "0.145699552",
         "0.17797535",
         "2.158587074",
         "0.600973099",
         "1.080934313",
         "5.419893032",
         "65.03871639",
         "0.274985143",
         "3.299821714",
         "1.42239141",
         "10.9185867",
         "13.10061764",
         "13.67565705",
         "15.15621058",
         "no",
         "10.81417151",
         "1.676258313",
         "0.485841388",
         "3.065047099",
         "1.107594209",
         "8.148590774",
         "3.516512911",
         "2.392353035",
         "6.715025787",
         "0.884350021",
         "0.648487637",
         "0.637188832",
         "0.947961657",
         "0.17797535",
         "0.625783434",
         "0.628186549",
         "14.05304655",
         "7.389497904",
         "good",
         "0",
         "5850000"
        ],
        [
         "1",
         "2",
         "34",
         "19.0",
         "3.0",
         "Nagatinskij Zaton",
         "3119.0",
         "5",
         "6237.0",
         "8",
         "0",
         "229.0",
         "1",
         "0",
         "6",
         "1",
         "1",
         "3",
         "0",
         "no",
         "no",
         "no",
         "0.936699728",
         "0.647336757",
         "7.620630408",
         "0.635052534",
         "0.147754269",
         "0.273345319",
         "0.550689737",
         "0.065321162",
         "0.966479097",
         "3.411993084",
         "40.943917",
         "0.065263344",
         "0.78316013",
         "9.503405157",
         "3.103995954",
         "6.444333466",
         "8.132640073",
         "8.698054189",
         "no",
         "6.910567711",
         "3.424716092",
         "0.668363679",
         "2.000153804",
         "8.97282283",
         "6.127072782",
         "1.161578983",
         "2.543746975",
         "1.852560245",
         "0.686251693",
         "0.519311324",
         "0.688796317",
         "1.072315063",
         "0.273345319",
         "0.967820571",
         "0.471446524",
         "6.829888847",
         "0.709260033",
         "excellent",
         "0",
         "6000000"
        ],
        [
         "2",
         "3",
         "43",
         "29.0",
         "2.0",
         "Tekstil'shhiki",
         "1463.0",
         "4",
         "5580.0",
         "7",
         "0",
         "1183.0",
         "1",
         "0",
         "5",
         "1",
         "0",
         "0",
         "1",
         "no",
         "no",
         "no",
         "2.120998901",
         "1.637996285",
         "17.3515154",
         "1.445959617",
         "0.049101536",
         "0.158071895",
         "0.374847751",
         "0.453172405",
         "0.939275144",
         "1.277658039",
         "15.33189647",
         "0.328756044",
         "3.945072522",
         "5.60479992",
         "2.927487097",
         "6.963402995",
         "8.054252314",
         "9.067884956",
         "no",
         "5.75236835",
         "1.375442778",
         "0.733101062",
         "1.239303854",
         "1.978517187",
         "0.767568769",
         "1.952770629",
         "0.621357002",
         "0.841254102",
         "1.510088854",
         "1.48653302",
         "1.543048836",
         "0.391957389",
         "0.158071895",
         "3.178751487",
         "0.755946015",
         "4.273200485",
         "3.156422843",
         "poor",
         "0",
         "5700000"
        ],
        [
         "3",
         "4",
         "89",
         "50.0",
         "9.0",
         "Mitino",
         "6839.0",
         "9",
         "17063.0",
         "10",
         "0",
         null,
         "1",
         "0",
         "17",
         "6",
         "0",
         "11",
         "4",
         "no",
         "no",
         "no",
         "1.489049154",
         "0.984536582",
         "11.56562408",
         "0.963802007",
         "0.179440956",
         "0.236455018",
         "0.078090293",
         "0.106124506",
         "0.451173311",
         "4.2914325",
         "51.49719001",
         "0.131596959",
         "1.579163513",
         "2.677824281",
         "14.60650078",
         "17.45719794",
         "18.30943312",
         "19.48700542",
         "no",
         "27.89271688",
         "0.811275289",
         "0.62348431",
         "1.950316967",
         "6.483171621",
         "7.385520691",
         "4.923843177",
         "3.549557568",
         "10.9031613",
         "0.622271644",
         "0.599913582",
         "0.934273498",
         "0.8926743",
         "0.236455018",
         "1.03177679",
         "1.561504846",
         "16.99067736",
         "16.04152067",
         "good",
         "0",
         "13100000"
        ],
        [
         "4",
         "5",
         "77",
         "77.0",
         "4.0",
         "Basmannoe",
         "3240.0",
         "7",
         "7770.0",
         "9",
         "0",
         "562.0",
         "4",
         "2",
         "25",
         "2",
         "0",
         "10",
         "93",
         "no",
         "yes",
         "no",
         "1.257186453",
         "0.876620232",
         "8.266305238",
         "0.68885877",
         "0.247901208",
         "0.376838057",
         "0.258288769",
         "0.236214054",
         "0.392870988",
         "0.853960072",
         "10.24752087",
         "0.071480323",
         "0.857763874",
         "11.61665314",
         "1.721833675",
         "0.046809568",
         "0.787593311",
         "2.578670647",
         "no",
         "9.15505713",
         "1.969737724",
         "0.220287667",
         "2.544696",
         "3.975401349",
         "3.610753828",
         "0.307915375",
         "1.864637406",
         "0.991682626",
         "0.892667526",
         "0.429052137",
         "0.077900959",
         "0.810801456",
         "0.376838057",
         "0.378755838",
         "0.121680643",
         "1.11248589",
         "1.800124877",
         "excellent",
         "0",
         "16331452"
        ]
       ],
       "shape": {
        "columns": 61,
        "rows": 5
       }
      },
      "text/html": [
       "<div>\n",
       "<style scoped>\n",
       "    .dataframe tbody tr th:only-of-type {\n",
       "        vertical-align: middle;\n",
       "    }\n",
       "\n",
       "    .dataframe tbody tr th {\n",
       "        vertical-align: top;\n",
       "    }\n",
       "\n",
       "    .dataframe thead th {\n",
       "        text-align: right;\n",
       "    }\n",
       "</style>\n",
       "<table border=\"1\" class=\"dataframe\">\n",
       "  <thead>\n",
       "    <tr style=\"text-align: right;\">\n",
       "      <th></th>\n",
       "      <th>id</th>\n",
       "      <th>full_sq</th>\n",
       "      <th>life_sq</th>\n",
       "      <th>floor</th>\n",
       "      <th>sub_area</th>\n",
       "      <th>preschool_quota</th>\n",
       "      <th>preschool_education_centers_raion</th>\n",
       "      <th>school_quota</th>\n",
       "      <th>school_education_centers_raion</th>\n",
       "      <th>school_education_centers_top_20_raion</th>\n",
       "      <th>...</th>\n",
       "      <th>office_km</th>\n",
       "      <th>additional_education_km</th>\n",
       "      <th>preschool_km</th>\n",
       "      <th>big_church_km</th>\n",
       "      <th>church_synagogue_km</th>\n",
       "      <th>theater_km</th>\n",
       "      <th>museum_km</th>\n",
       "      <th>ecology</th>\n",
       "      <th>mosque_count_1000</th>\n",
       "      <th>price_doc</th>\n",
       "    </tr>\n",
       "  </thead>\n",
       "  <tbody>\n",
       "    <tr>\n",
       "      <th>0</th>\n",
       "      <td>1</td>\n",
       "      <td>43</td>\n",
       "      <td>27.0</td>\n",
       "      <td>4.0</td>\n",
       "      <td>Bibirevo</td>\n",
       "      <td>5001.0</td>\n",
       "      <td>5</td>\n",
       "      <td>11065.0</td>\n",
       "      <td>5</td>\n",
       "      <td>0</td>\n",
       "      <td>...</td>\n",
       "      <td>0.637189</td>\n",
       "      <td>0.947962</td>\n",
       "      <td>0.177975</td>\n",
       "      <td>0.625783</td>\n",
       "      <td>0.628187</td>\n",
       "      <td>14.053047</td>\n",
       "      <td>7.389498</td>\n",
       "      <td>good</td>\n",
       "      <td>0</td>\n",
       "      <td>5850000</td>\n",
       "    </tr>\n",
       "    <tr>\n",
       "      <th>1</th>\n",
       "      <td>2</td>\n",
       "      <td>34</td>\n",
       "      <td>19.0</td>\n",
       "      <td>3.0</td>\n",
       "      <td>Nagatinskij Zaton</td>\n",
       "      <td>3119.0</td>\n",
       "      <td>5</td>\n",
       "      <td>6237.0</td>\n",
       "      <td>8</td>\n",
       "      <td>0</td>\n",
       "      <td>...</td>\n",
       "      <td>0.688796</td>\n",
       "      <td>1.072315</td>\n",
       "      <td>0.273345</td>\n",
       "      <td>0.967821</td>\n",
       "      <td>0.471447</td>\n",
       "      <td>6.829889</td>\n",
       "      <td>0.709260</td>\n",
       "      <td>excellent</td>\n",
       "      <td>0</td>\n",
       "      <td>6000000</td>\n",
       "    </tr>\n",
       "    <tr>\n",
       "      <th>2</th>\n",
       "      <td>3</td>\n",
       "      <td>43</td>\n",
       "      <td>29.0</td>\n",
       "      <td>2.0</td>\n",
       "      <td>Tekstil'shhiki</td>\n",
       "      <td>1463.0</td>\n",
       "      <td>4</td>\n",
       "      <td>5580.0</td>\n",
       "      <td>7</td>\n",
       "      <td>0</td>\n",
       "      <td>...</td>\n",
       "      <td>1.543049</td>\n",
       "      <td>0.391957</td>\n",
       "      <td>0.158072</td>\n",
       "      <td>3.178751</td>\n",
       "      <td>0.755946</td>\n",
       "      <td>4.273200</td>\n",
       "      <td>3.156423</td>\n",
       "      <td>poor</td>\n",
       "      <td>0</td>\n",
       "      <td>5700000</td>\n",
       "    </tr>\n",
       "    <tr>\n",
       "      <th>3</th>\n",
       "      <td>4</td>\n",
       "      <td>89</td>\n",
       "      <td>50.0</td>\n",
       "      <td>9.0</td>\n",
       "      <td>Mitino</td>\n",
       "      <td>6839.0</td>\n",
       "      <td>9</td>\n",
       "      <td>17063.0</td>\n",
       "      <td>10</td>\n",
       "      <td>0</td>\n",
       "      <td>...</td>\n",
       "      <td>0.934273</td>\n",
       "      <td>0.892674</td>\n",
       "      <td>0.236455</td>\n",
       "      <td>1.031777</td>\n",
       "      <td>1.561505</td>\n",
       "      <td>16.990677</td>\n",
       "      <td>16.041521</td>\n",
       "      <td>good</td>\n",
       "      <td>0</td>\n",
       "      <td>13100000</td>\n",
       "    </tr>\n",
       "    <tr>\n",
       "      <th>4</th>\n",
       "      <td>5</td>\n",
       "      <td>77</td>\n",
       "      <td>77.0</td>\n",
       "      <td>4.0</td>\n",
       "      <td>Basmannoe</td>\n",
       "      <td>3240.0</td>\n",
       "      <td>7</td>\n",
       "      <td>7770.0</td>\n",
       "      <td>9</td>\n",
       "      <td>0</td>\n",
       "      <td>...</td>\n",
       "      <td>0.077901</td>\n",
       "      <td>0.810801</td>\n",
       "      <td>0.376838</td>\n",
       "      <td>0.378756</td>\n",
       "      <td>0.121681</td>\n",
       "      <td>1.112486</td>\n",
       "      <td>1.800125</td>\n",
       "      <td>excellent</td>\n",
       "      <td>0</td>\n",
       "      <td>16331452</td>\n",
       "    </tr>\n",
       "  </tbody>\n",
       "</table>\n",
       "<p>5 rows × 61 columns</p>\n",
       "</div>"
      ],
      "text/plain": [
       "   id  full_sq  life_sq  floor           sub_area  preschool_quota  \\\n",
       "0   1       43     27.0    4.0           Bibirevo           5001.0   \n",
       "1   2       34     19.0    3.0  Nagatinskij Zaton           3119.0   \n",
       "2   3       43     29.0    2.0     Tekstil'shhiki           1463.0   \n",
       "3   4       89     50.0    9.0             Mitino           6839.0   \n",
       "4   5       77     77.0    4.0          Basmannoe           3240.0   \n",
       "\n",
       "   preschool_education_centers_raion  school_quota  \\\n",
       "0                                  5       11065.0   \n",
       "1                                  5        6237.0   \n",
       "2                                  4        5580.0   \n",
       "3                                  9       17063.0   \n",
       "4                                  7        7770.0   \n",
       "\n",
       "   school_education_centers_raion  school_education_centers_top_20_raion  ...  \\\n",
       "0                               5                                      0  ...   \n",
       "1                               8                                      0  ...   \n",
       "2                               7                                      0  ...   \n",
       "3                              10                                      0  ...   \n",
       "4                               9                                      0  ...   \n",
       "\n",
       "   office_km  additional_education_km  preschool_km  big_church_km  \\\n",
       "0   0.637189                 0.947962      0.177975       0.625783   \n",
       "1   0.688796                 1.072315      0.273345       0.967821   \n",
       "2   1.543049                 0.391957      0.158072       3.178751   \n",
       "3   0.934273                 0.892674      0.236455       1.031777   \n",
       "4   0.077901                 0.810801      0.376838       0.378756   \n",
       "\n",
       "   church_synagogue_km  theater_km  museum_km    ecology mosque_count_1000  \\\n",
       "0             0.628187   14.053047   7.389498       good                 0   \n",
       "1             0.471447    6.829889   0.709260  excellent                 0   \n",
       "2             0.755946    4.273200   3.156423       poor                 0   \n",
       "3             1.561505   16.990677  16.041521       good                 0   \n",
       "4             0.121681    1.112486   1.800125  excellent                 0   \n",
       "\n",
       "  price_doc  \n",
       "0   5850000  \n",
       "1   6000000  \n",
       "2   5700000  \n",
       "3  13100000  \n",
       "4  16331452  \n",
       "\n",
       "[5 rows x 61 columns]"
      ]
     },
     "execution_count": 69,
     "metadata": {},
     "output_type": "execute_result"
    }
   ],
   "source": [
    "sber_data = pd.read_csv('data/sber_data.csv')\n",
    "print('Shape of data: {}'.format(sber_data.shape))\n",
    "sber_data.head()"
   ]
  },
  {
   "cell_type": "code",
   "execution_count": 70,
   "id": "ee513d42",
   "metadata": {},
   "outputs": [],
   "source": [
    "#display(sber_data.info());"
   ]
  },
  {
   "cell_type": "markdown",
   "id": "c02b8f38-2b46-4099-9de6-9b64a41e3e85",
   "metadata": {},
   "source": [
    "### Обнаружение пропусков"
   ]
  },
  {
   "cell_type": "code",
   "execution_count": 71,
   "id": "af8e2cb6-2d34-4cd1-972c-df5007f22bed",
   "metadata": {},
   "outputs": [
    {
     "data": {
      "application/vnd.microsoft.datawrangler.viewer.v0+json": {
       "columns": [
        {
         "name": "index",
         "rawType": "int64",
         "type": "integer"
        },
        {
         "name": "id",
         "rawType": "bool",
         "type": "boolean"
        },
        {
         "name": "full_sq",
         "rawType": "bool",
         "type": "boolean"
        },
        {
         "name": "life_sq",
         "rawType": "bool",
         "type": "boolean"
        },
        {
         "name": "floor",
         "rawType": "bool",
         "type": "boolean"
        },
        {
         "name": "sub_area",
         "rawType": "bool",
         "type": "boolean"
        },
        {
         "name": "preschool_quota",
         "rawType": "bool",
         "type": "boolean"
        },
        {
         "name": "preschool_education_centers_raion",
         "rawType": "bool",
         "type": "boolean"
        },
        {
         "name": "school_quota",
         "rawType": "bool",
         "type": "boolean"
        },
        {
         "name": "school_education_centers_raion",
         "rawType": "bool",
         "type": "boolean"
        },
        {
         "name": "school_education_centers_top_20_raion",
         "rawType": "bool",
         "type": "boolean"
        },
        {
         "name": "hospital_beds_raion",
         "rawType": "bool",
         "type": "boolean"
        },
        {
         "name": "healthcare_centers_raion",
         "rawType": "bool",
         "type": "boolean"
        },
        {
         "name": "university_top_20_raion",
         "rawType": "bool",
         "type": "boolean"
        },
        {
         "name": "sport_objects_raion",
         "rawType": "bool",
         "type": "boolean"
        },
        {
         "name": "additional_education_raion",
         "rawType": "bool",
         "type": "boolean"
        },
        {
         "name": "culture_objects_top_25_raion",
         "rawType": "bool",
         "type": "boolean"
        },
        {
         "name": "shopping_centers_raion",
         "rawType": "bool",
         "type": "boolean"
        },
        {
         "name": "office_raion",
         "rawType": "bool",
         "type": "boolean"
        },
        {
         "name": "oil_chemistry_raion",
         "rawType": "bool",
         "type": "boolean"
        },
        {
         "name": "railroad_terminal_raion",
         "rawType": "bool",
         "type": "boolean"
        },
        {
         "name": "nuclear_reactor_raion",
         "rawType": "bool",
         "type": "boolean"
        },
        {
         "name": "metro_min_avto",
         "rawType": "bool",
         "type": "boolean"
        },
        {
         "name": "metro_km_avto",
         "rawType": "bool",
         "type": "boolean"
        },
        {
         "name": "metro_min_walk",
         "rawType": "bool",
         "type": "boolean"
        },
        {
         "name": "metro_km_walk",
         "rawType": "bool",
         "type": "boolean"
        },
        {
         "name": "kindergarten_km",
         "rawType": "bool",
         "type": "boolean"
        },
        {
         "name": "school_km",
         "rawType": "bool",
         "type": "boolean"
        },
        {
         "name": "park_km",
         "rawType": "bool",
         "type": "boolean"
        },
        {
         "name": "green_zone_km",
         "rawType": "bool",
         "type": "boolean"
        },
        {
         "name": "industrial_km",
         "rawType": "bool",
         "type": "boolean"
        },
        {
         "name": "railroad_station_walk_km",
         "rawType": "bool",
         "type": "boolean"
        },
        {
         "name": "railroad_station_walk_min",
         "rawType": "bool",
         "type": "boolean"
        },
        {
         "name": "public_transport_station_km",
         "rawType": "bool",
         "type": "boolean"
        },
        {
         "name": "public_transport_station_min_walk",
         "rawType": "bool",
         "type": "boolean"
        },
        {
         "name": "mkad_km",
         "rawType": "bool",
         "type": "boolean"
        },
        {
         "name": "ttk_km",
         "rawType": "bool",
         "type": "boolean"
        },
        {
         "name": "sadovoe_km",
         "rawType": "bool",
         "type": "boolean"
        },
        {
         "name": "bulvar_ring_km",
         "rawType": "bool",
         "type": "boolean"
        },
        {
         "name": "kremlin_km",
         "rawType": "bool",
         "type": "boolean"
        },
        {
         "name": "big_road1_1line",
         "rawType": "bool",
         "type": "boolean"
        },
        {
         "name": "big_market_km",
         "rawType": "bool",
         "type": "boolean"
        },
        {
         "name": "market_shop_km",
         "rawType": "bool",
         "type": "boolean"
        },
        {
         "name": "fitness_km",
         "rawType": "bool",
         "type": "boolean"
        },
        {
         "name": "swim_pool_km",
         "rawType": "bool",
         "type": "boolean"
        },
        {
         "name": "ice_rink_km",
         "rawType": "bool",
         "type": "boolean"
        },
        {
         "name": "stadium_km",
         "rawType": "bool",
         "type": "boolean"
        },
        {
         "name": "basketball_km",
         "rawType": "bool",
         "type": "boolean"
        },
        {
         "name": "hospice_morgue_km",
         "rawType": "bool",
         "type": "boolean"
        },
        {
         "name": "university_km",
         "rawType": "bool",
         "type": "boolean"
        },
        {
         "name": "workplaces_km",
         "rawType": "bool",
         "type": "boolean"
        },
        {
         "name": "shopping_centers_km",
         "rawType": "bool",
         "type": "boolean"
        },
        {
         "name": "office_km",
         "rawType": "bool",
         "type": "boolean"
        },
        {
         "name": "additional_education_km",
         "rawType": "bool",
         "type": "boolean"
        },
        {
         "name": "preschool_km",
         "rawType": "bool",
         "type": "boolean"
        },
        {
         "name": "big_church_km",
         "rawType": "bool",
         "type": "boolean"
        },
        {
         "name": "church_synagogue_km",
         "rawType": "bool",
         "type": "boolean"
        },
        {
         "name": "theater_km",
         "rawType": "bool",
         "type": "boolean"
        },
        {
         "name": "museum_km",
         "rawType": "bool",
         "type": "boolean"
        },
        {
         "name": "ecology",
         "rawType": "bool",
         "type": "boolean"
        },
        {
         "name": "mosque_count_1000",
         "rawType": "bool",
         "type": "boolean"
        },
        {
         "name": "price_doc",
         "rawType": "bool",
         "type": "boolean"
        }
       ],
       "ref": "7016646e-a7f5-4091-8766-3ad0d8967133",
       "rows": [
        [
         "30466",
         "False",
         "False",
         "False",
         "False",
         "False",
         "False",
         "False",
         "False",
         "False",
         "False",
         "True",
         "False",
         "False",
         "False",
         "False",
         "False",
         "False",
         "False",
         "False",
         "False",
         "False",
         "False",
         "False",
         "False",
         "False",
         "False",
         "False",
         "False",
         "False",
         "False",
         "False",
         "False",
         "False",
         "False",
         "False",
         "False",
         "False",
         "False",
         "False",
         "False",
         "False",
         "False",
         "False",
         "False",
         "False",
         "False",
         "False",
         "False",
         "False",
         "False",
         "False",
         "False",
         "False",
         "False",
         "False",
         "False",
         "False",
         "False",
         "False",
         "False",
         "False"
        ],
        [
         "30467",
         "False",
         "False",
         "False",
         "False",
         "False",
         "False",
         "False",
         "False",
         "False",
         "False",
         "False",
         "False",
         "False",
         "False",
         "False",
         "False",
         "False",
         "False",
         "False",
         "False",
         "False",
         "False",
         "False",
         "False",
         "False",
         "False",
         "False",
         "False",
         "False",
         "False",
         "False",
         "False",
         "False",
         "False",
         "False",
         "False",
         "False",
         "False",
         "False",
         "False",
         "False",
         "False",
         "False",
         "False",
         "False",
         "False",
         "False",
         "False",
         "False",
         "False",
         "False",
         "False",
         "False",
         "False",
         "False",
         "False",
         "False",
         "False",
         "False",
         "False",
         "False"
        ],
        [
         "30468",
         "False",
         "False",
         "True",
         "False",
         "False",
         "True",
         "False",
         "True",
         "False",
         "False",
         "True",
         "False",
         "False",
         "False",
         "False",
         "False",
         "False",
         "False",
         "False",
         "False",
         "False",
         "False",
         "False",
         "False",
         "False",
         "False",
         "False",
         "False",
         "False",
         "False",
         "False",
         "False",
         "False",
         "False",
         "False",
         "False",
         "False",
         "False",
         "False",
         "False",
         "False",
         "False",
         "False",
         "False",
         "False",
         "False",
         "False",
         "False",
         "False",
         "False",
         "False",
         "False",
         "False",
         "False",
         "False",
         "False",
         "False",
         "False",
         "False",
         "False",
         "False"
        ],
        [
         "30469",
         "False",
         "False",
         "False",
         "False",
         "False",
         "False",
         "False",
         "False",
         "False",
         "False",
         "False",
         "False",
         "False",
         "False",
         "False",
         "False",
         "False",
         "False",
         "False",
         "False",
         "False",
         "False",
         "False",
         "False",
         "False",
         "False",
         "False",
         "False",
         "False",
         "False",
         "False",
         "False",
         "False",
         "False",
         "False",
         "False",
         "False",
         "False",
         "False",
         "False",
         "False",
         "False",
         "False",
         "False",
         "False",
         "False",
         "False",
         "False",
         "False",
         "False",
         "False",
         "False",
         "False",
         "False",
         "False",
         "False",
         "False",
         "False",
         "False",
         "False",
         "False"
        ],
        [
         "30470",
         "False",
         "False",
         "False",
         "False",
         "False",
         "False",
         "False",
         "False",
         "False",
         "False",
         "False",
         "False",
         "False",
         "False",
         "False",
         "False",
         "False",
         "False",
         "False",
         "False",
         "False",
         "False",
         "False",
         "False",
         "False",
         "False",
         "False",
         "False",
         "False",
         "False",
         "False",
         "False",
         "False",
         "False",
         "False",
         "False",
         "False",
         "False",
         "False",
         "False",
         "False",
         "False",
         "False",
         "False",
         "False",
         "False",
         "False",
         "False",
         "False",
         "False",
         "False",
         "False",
         "False",
         "False",
         "False",
         "False",
         "False",
         "False",
         "False",
         "False",
         "False"
        ]
       ],
       "shape": {
        "columns": 61,
        "rows": 5
       }
      },
      "text/html": [
       "<div>\n",
       "<style scoped>\n",
       "    .dataframe tbody tr th:only-of-type {\n",
       "        vertical-align: middle;\n",
       "    }\n",
       "\n",
       "    .dataframe tbody tr th {\n",
       "        vertical-align: top;\n",
       "    }\n",
       "\n",
       "    .dataframe thead th {\n",
       "        text-align: right;\n",
       "    }\n",
       "</style>\n",
       "<table border=\"1\" class=\"dataframe\">\n",
       "  <thead>\n",
       "    <tr style=\"text-align: right;\">\n",
       "      <th></th>\n",
       "      <th>id</th>\n",
       "      <th>full_sq</th>\n",
       "      <th>life_sq</th>\n",
       "      <th>floor</th>\n",
       "      <th>sub_area</th>\n",
       "      <th>preschool_quota</th>\n",
       "      <th>preschool_education_centers_raion</th>\n",
       "      <th>school_quota</th>\n",
       "      <th>school_education_centers_raion</th>\n",
       "      <th>school_education_centers_top_20_raion</th>\n",
       "      <th>...</th>\n",
       "      <th>office_km</th>\n",
       "      <th>additional_education_km</th>\n",
       "      <th>preschool_km</th>\n",
       "      <th>big_church_km</th>\n",
       "      <th>church_synagogue_km</th>\n",
       "      <th>theater_km</th>\n",
       "      <th>museum_km</th>\n",
       "      <th>ecology</th>\n",
       "      <th>mosque_count_1000</th>\n",
       "      <th>price_doc</th>\n",
       "    </tr>\n",
       "  </thead>\n",
       "  <tbody>\n",
       "    <tr>\n",
       "      <th>30466</th>\n",
       "      <td>False</td>\n",
       "      <td>False</td>\n",
       "      <td>False</td>\n",
       "      <td>False</td>\n",
       "      <td>False</td>\n",
       "      <td>False</td>\n",
       "      <td>False</td>\n",
       "      <td>False</td>\n",
       "      <td>False</td>\n",
       "      <td>False</td>\n",
       "      <td>...</td>\n",
       "      <td>False</td>\n",
       "      <td>False</td>\n",
       "      <td>False</td>\n",
       "      <td>False</td>\n",
       "      <td>False</td>\n",
       "      <td>False</td>\n",
       "      <td>False</td>\n",
       "      <td>False</td>\n",
       "      <td>False</td>\n",
       "      <td>False</td>\n",
       "    </tr>\n",
       "    <tr>\n",
       "      <th>30467</th>\n",
       "      <td>False</td>\n",
       "      <td>False</td>\n",
       "      <td>False</td>\n",
       "      <td>False</td>\n",
       "      <td>False</td>\n",
       "      <td>False</td>\n",
       "      <td>False</td>\n",
       "      <td>False</td>\n",
       "      <td>False</td>\n",
       "      <td>False</td>\n",
       "      <td>...</td>\n",
       "      <td>False</td>\n",
       "      <td>False</td>\n",
       "      <td>False</td>\n",
       "      <td>False</td>\n",
       "      <td>False</td>\n",
       "      <td>False</td>\n",
       "      <td>False</td>\n",
       "      <td>False</td>\n",
       "      <td>False</td>\n",
       "      <td>False</td>\n",
       "    </tr>\n",
       "    <tr>\n",
       "      <th>30468</th>\n",
       "      <td>False</td>\n",
       "      <td>False</td>\n",
       "      <td>True</td>\n",
       "      <td>False</td>\n",
       "      <td>False</td>\n",
       "      <td>True</td>\n",
       "      <td>False</td>\n",
       "      <td>True</td>\n",
       "      <td>False</td>\n",
       "      <td>False</td>\n",
       "      <td>...</td>\n",
       "      <td>False</td>\n",
       "      <td>False</td>\n",
       "      <td>False</td>\n",
       "      <td>False</td>\n",
       "      <td>False</td>\n",
       "      <td>False</td>\n",
       "      <td>False</td>\n",
       "      <td>False</td>\n",
       "      <td>False</td>\n",
       "      <td>False</td>\n",
       "    </tr>\n",
       "    <tr>\n",
       "      <th>30469</th>\n",
       "      <td>False</td>\n",
       "      <td>False</td>\n",
       "      <td>False</td>\n",
       "      <td>False</td>\n",
       "      <td>False</td>\n",
       "      <td>False</td>\n",
       "      <td>False</td>\n",
       "      <td>False</td>\n",
       "      <td>False</td>\n",
       "      <td>False</td>\n",
       "      <td>...</td>\n",
       "      <td>False</td>\n",
       "      <td>False</td>\n",
       "      <td>False</td>\n",
       "      <td>False</td>\n",
       "      <td>False</td>\n",
       "      <td>False</td>\n",
       "      <td>False</td>\n",
       "      <td>False</td>\n",
       "      <td>False</td>\n",
       "      <td>False</td>\n",
       "    </tr>\n",
       "    <tr>\n",
       "      <th>30470</th>\n",
       "      <td>False</td>\n",
       "      <td>False</td>\n",
       "      <td>False</td>\n",
       "      <td>False</td>\n",
       "      <td>False</td>\n",
       "      <td>False</td>\n",
       "      <td>False</td>\n",
       "      <td>False</td>\n",
       "      <td>False</td>\n",
       "      <td>False</td>\n",
       "      <td>...</td>\n",
       "      <td>False</td>\n",
       "      <td>False</td>\n",
       "      <td>False</td>\n",
       "      <td>False</td>\n",
       "      <td>False</td>\n",
       "      <td>False</td>\n",
       "      <td>False</td>\n",
       "      <td>False</td>\n",
       "      <td>False</td>\n",
       "      <td>False</td>\n",
       "    </tr>\n",
       "  </tbody>\n",
       "</table>\n",
       "<p>5 rows × 61 columns</p>\n",
       "</div>"
      ],
      "text/plain": [
       "          id  full_sq  life_sq  floor  sub_area  preschool_quota  \\\n",
       "30466  False    False    False  False     False            False   \n",
       "30467  False    False    False  False     False            False   \n",
       "30468  False    False     True  False     False             True   \n",
       "30469  False    False    False  False     False            False   \n",
       "30470  False    False    False  False     False            False   \n",
       "\n",
       "       preschool_education_centers_raion  school_quota  \\\n",
       "30466                              False         False   \n",
       "30467                              False         False   \n",
       "30468                              False          True   \n",
       "30469                              False         False   \n",
       "30470                              False         False   \n",
       "\n",
       "       school_education_centers_raion  school_education_centers_top_20_raion  \\\n",
       "30466                           False                                  False   \n",
       "30467                           False                                  False   \n",
       "30468                           False                                  False   \n",
       "30469                           False                                  False   \n",
       "30470                           False                                  False   \n",
       "\n",
       "       ...  office_km  additional_education_km  preschool_km  big_church_km  \\\n",
       "30466  ...      False                    False         False          False   \n",
       "30467  ...      False                    False         False          False   \n",
       "30468  ...      False                    False         False          False   \n",
       "30469  ...      False                    False         False          False   \n",
       "30470  ...      False                    False         False          False   \n",
       "\n",
       "       church_synagogue_km  theater_km  museum_km  ecology  mosque_count_1000  \\\n",
       "30466                False       False      False    False              False   \n",
       "30467                False       False      False    False              False   \n",
       "30468                False       False      False    False              False   \n",
       "30469                False       False      False    False              False   \n",
       "30470                False       False      False    False              False   \n",
       "\n",
       "       price_doc  \n",
       "30466      False  \n",
       "30467      False  \n",
       "30468      False  \n",
       "30469      False  \n",
       "30470      False  \n",
       "\n",
       "[5 rows x 61 columns]"
      ]
     },
     "metadata": {},
     "output_type": "display_data"
    }
   ],
   "source": [
    "display(sber_data.isnull().tail())"
   ]
  },
  {
   "cell_type": "markdown",
   "id": "b86413b9-805f-4261-8dbd-f7bf61767d18",
   "metadata": {},
   "source": [
    "**1. Список столбцов с пропусками**\n",
    "\n",
    "Первый способ — это вывести на экран названия столбцов, где число пропусков больше 0. "
   ]
  },
  {
   "cell_type": "code",
   "execution_count": 72,
   "id": "1fa35a47-5008-4230-8883-78339b8f6677",
   "metadata": {},
   "outputs": [
    {
     "data": {
      "application/vnd.microsoft.datawrangler.viewer.v0+json": {
       "columns": [
        {
         "name": "index",
         "rawType": "object",
         "type": "string"
        },
        {
         "name": "0",
         "rawType": "float64",
         "type": "float"
        }
       ],
       "ref": "67d19b41-930c-4fd5-8ef7-9dc4d6e9e5f3",
       "rows": [
        [
         "hospital_beds_raion",
         "47.39260280266483"
        ],
        [
         "preschool_quota",
         "21.94873814446523"
        ],
        [
         "school_quota",
         "21.93889271766598"
        ],
        [
         "life_sq",
         "20.947786419874635"
        ],
        [
         "floor",
         "0.548062091825014"
        ],
        [
         "metro_min_walk",
         "0.08204522332709789"
        ],
        [
         "metro_km_walk",
         "0.08204522332709789"
        ],
        [
         "railroad_station_walk_km",
         "0.08204522332709789"
        ],
        [
         "railroad_station_walk_min",
         "0.08204522332709789"
        ]
       ],
       "shape": {
        "columns": 1,
        "rows": 9
       }
      },
      "text/plain": [
       "hospital_beds_raion          47.392603\n",
       "preschool_quota              21.948738\n",
       "school_quota                 21.938893\n",
       "life_sq                      20.947786\n",
       "floor                         0.548062\n",
       "metro_min_walk                0.082045\n",
       "metro_km_walk                 0.082045\n",
       "railroad_station_walk_km      0.082045\n",
       "railroad_station_walk_min     0.082045\n",
       "dtype: float64"
      ]
     },
     "metadata": {},
     "output_type": "display_data"
    }
   ],
   "source": [
    "cols_null_persent = sber_data.isnull().mean() * 100\n",
    "cols_with_null = cols_null_persent[cols_null_persent>0].sort_values(ascending=False)\n",
    "display(cols_with_null)"
   ]
  },
  {
   "cell_type": "markdown",
   "id": "54fdb86e",
   "metadata": {},
   "source": [
    "Итак, можно увидеть, что у нас большое число пропусков (более 47 %) в столбце hospital_beds_raion (количество больничных коек в округе). \n",
    "\n",
    "Далее у нас идут столбцы с числом пропусков чуть больше 20 %: \n",
    "\n",
    "* preschool_quota (число мест в детском саду в районе);\n",
    "* school_quota (число мест в школах в районе);\n",
    "* life_sq (жилая площадь здания в квадратных метрах). \n",
    "\n",
    "Менее одного процента пропусков содержат признаки:\n",
    "\n",
    "* floor (число этажей в доме);\n",
    "* metro_min_walk (время от дома до ближайшего метро пешком в минутах);\n",
    "* metro_km_walk (расстояние до ближайшего метро в километрах);\n",
    "* railroad_station_walk_km (расстояние до ближайшей ж. д. станции в километрах);\n",
    "* railroad_station_walk_min (время до ближайшей ж. д. станции пешком в минутах). "
   ]
  },
  {
   "cell_type": "markdown",
   "id": "b5012889-66b1-44d8-be05-b8573d89862b",
   "metadata": {},
   "source": [
    "**2. Столбчатая диаграмма пропусков**\n",
    "\n",
    "Иногда столбцов с пропусками становится слишком много и прочитать информацию о них из списка признаков с цифрами становится слишком затруднительно — цифры начинают сливаться воедино. \n",
    "\n",
    "Можно воспользоваться столбчатой диаграммой, чтобы визуально оценить соотношение числа пропусков к числу записей."
   ]
  },
  {
   "cell_type": "code",
   "execution_count": 73,
   "id": "e255b245-f764-4c49-935a-362e562ba61c",
   "metadata": {},
   "outputs": [
    {
     "data": {
      "image/png": "[encoded data removed]",
      "text/plain": [
       "<Figure size 1000x400 with 1 Axes>"
      ]
     },
     "metadata": {},
     "output_type": "display_data"
    }
   ],
   "source": [
    "cols_with_null.plot(\n",
    "    kind='bar',\n",
    "    figsize=(10, 4),\n",
    "    title='Распределение пропусков в данных'\n",
    ");"
   ]
  },
  {
   "cell_type": "markdown",
   "id": "f9ffdb03-2062-4934-9824-bf22e217cf14",
   "metadata": {},
   "source": [
    "**3. Тепловая карта пропусков**\n",
    "\n",
    "Ещё один распространённый способ визуализации пропусков — тепловая карта. \n",
    "\n",
    "Её часто используют, когда столбцов с пропусками не так много (меньше 10). Она позволяет понять не только соотношение пропусков в данных, но и их характерное местоположение в таблице. "
   ]
  },
  {
   "cell_type": "code",
   "execution_count": 74,
   "id": "0d5f9438-c3e5-48c5-9a16-7b3ce7c402a2",
   "metadata": {
    "tags": []
   },
   "outputs": [
    {
     "data": {
      "image/png": "[encoded data removed]",
      "text/plain": [
       "<Figure size 1000x400 with 2 Axes>"
      ]
     },
     "metadata": {},
     "output_type": "display_data"
    }
   ],
   "source": [
    "colors = ['blue', 'yellow'] \n",
    "fig = plt.figure(figsize=(10, 4))\n",
    "cols = cols_with_null.index\n",
    "ax = sns.heatmap(\n",
    "    sber_data[cols].isnull(),\n",
    "    cmap=sns.color_palette(colors),\n",
    ")"
   ]
  },
  {
   "cell_type": "markdown",
   "id": "133b2d9a",
   "metadata": {},
   "source": [
    "На полученной тепловой карте мы не видим чётких процентных соотношений для числа пропусков в данных, однако мы можем увидеть места их концентрации в таблице. Например, видно, что признаки preschool_quota и school_quota очень сильно связаны друг с другом по части пропусков: во всех записях, где хотя бы один не определён, не указан и второй (жёлтые линии для двух этих признаков полностью совпадают друг с другом)."
   ]
  },
  {
   "cell_type": "markdown",
   "id": "df4c91db",
   "metadata": {},
   "source": [
    "### Методы обработки пропусков"
   ]
  },
  {
   "cell_type": "markdown",
   "id": "00b74c2b",
   "metadata": {},
   "source": [
    "**1. Отбрасывание записей и признаков**\n",
    "\n",
    "Первая техника самая простая из всех, она предполагает простое удаление записей или признаков, в которых содержатся пропуски. Здесь важно правильно выбрать ось удаления: если мы избавимся от большого числа строк, то мы рискуем потерять важные данные, а если мы удалим столбцы, то мы можем потерять важные признаки.\n",
    "\n",
    "<img src= https://raw.githubusercontent.com/AndreyRysistov/DatasetsForPandas/main/drop_na.jpg>"
   ]
  },
  {
   "cell_type": "code",
   "execution_count": 75,
   "id": "ac65348b-b0bc-43a7-86cd-5eae3dff4319",
   "metadata": {},
   "outputs": [
    {
     "data": {
      "application/vnd.microsoft.datawrangler.viewer.v0+json": {
       "columns": [
        {
         "name": "index",
         "rawType": "object",
         "type": "string"
        },
        {
         "name": "0",
         "rawType": "float64",
         "type": "float"
        }
       ],
       "ref": "3938784e-ee07-4540-9612-c653208b7c29",
       "rows": [
        [
         "id",
         "0.0"
        ],
        [
         "full_sq",
         "0.0"
        ],
        [
         "life_sq",
         "0.0"
        ],
        [
         "floor",
         "0.0"
        ],
        [
         "sub_area",
         "0.0"
        ],
        [
         "preschool_quota",
         "0.0"
        ],
        [
         "preschool_education_centers_raion",
         "0.0"
        ],
        [
         "school_quota",
         "0.0"
        ],
        [
         "school_education_centers_raion",
         "0.0"
        ],
        [
         "school_education_centers_top_20_raion",
         "0.0"
        ],
        [
         "healthcare_centers_raion",
         "0.0"
        ],
        [
         "university_top_20_raion",
         "0.0"
        ],
        [
         "sport_objects_raion",
         "0.0"
        ],
        [
         "additional_education_raion",
         "0.0"
        ],
        [
         "culture_objects_top_25_raion",
         "0.0"
        ],
        [
         "shopping_centers_raion",
         "0.0"
        ],
        [
         "office_raion",
         "0.0"
        ],
        [
         "oil_chemistry_raion",
         "0.0"
        ],
        [
         "railroad_terminal_raion",
         "0.0"
        ],
        [
         "nuclear_reactor_raion",
         "0.0"
        ],
        [
         "metro_min_avto",
         "0.0"
        ],
        [
         "metro_km_avto",
         "0.0"
        ],
        [
         "metro_min_walk",
         "0.0"
        ],
        [
         "metro_km_walk",
         "0.0"
        ],
        [
         "kindergarten_km",
         "0.0"
        ],
        [
         "school_km",
         "0.0"
        ],
        [
         "park_km",
         "0.0"
        ],
        [
         "green_zone_km",
         "0.0"
        ],
        [
         "industrial_km",
         "0.0"
        ],
        [
         "railroad_station_walk_km",
         "0.0"
        ],
        [
         "railroad_station_walk_min",
         "0.0"
        ],
        [
         "public_transport_station_km",
         "0.0"
        ],
        [
         "public_transport_station_min_walk",
         "0.0"
        ],
        [
         "mkad_km",
         "0.0"
        ],
        [
         "ttk_km",
         "0.0"
        ],
        [
         "sadovoe_km",
         "0.0"
        ],
        [
         "bulvar_ring_km",
         "0.0"
        ],
        [
         "kremlin_km",
         "0.0"
        ],
        [
         "big_road1_1line",
         "0.0"
        ],
        [
         "big_market_km",
         "0.0"
        ],
        [
         "market_shop_km",
         "0.0"
        ],
        [
         "fitness_km",
         "0.0"
        ],
        [
         "swim_pool_km",
         "0.0"
        ],
        [
         "ice_rink_km",
         "0.0"
        ],
        [
         "stadium_km",
         "0.0"
        ],
        [
         "basketball_km",
         "0.0"
        ],
        [
         "hospice_morgue_km",
         "0.0"
        ],
        [
         "university_km",
         "0.0"
        ],
        [
         "workplaces_km",
         "0.0"
        ],
        [
         "shopping_centers_km",
         "0.0"
        ]
       ],
       "shape": {
        "columns": 1,
        "rows": 60
       }
      },
      "text/plain": [
       "id                                       0.0\n",
       "full_sq                                  0.0\n",
       "life_sq                                  0.0\n",
       "floor                                    0.0\n",
       "sub_area                                 0.0\n",
       "preschool_quota                          0.0\n",
       "preschool_education_centers_raion        0.0\n",
       "school_quota                             0.0\n",
       "school_education_centers_raion           0.0\n",
       "school_education_centers_top_20_raion    0.0\n",
       "healthcare_centers_raion                 0.0\n",
       "university_top_20_raion                  0.0\n",
       "sport_objects_raion                      0.0\n",
       "additional_education_raion               0.0\n",
       "culture_objects_top_25_raion             0.0\n",
       "shopping_centers_raion                   0.0\n",
       "office_raion                             0.0\n",
       "oil_chemistry_raion                      0.0\n",
       "railroad_terminal_raion                  0.0\n",
       "nuclear_reactor_raion                    0.0\n",
       "metro_min_avto                           0.0\n",
       "metro_km_avto                            0.0\n",
       "metro_min_walk                           0.0\n",
       "metro_km_walk                            0.0\n",
       "kindergarten_km                          0.0\n",
       "school_km                                0.0\n",
       "park_km                                  0.0\n",
       "green_zone_km                            0.0\n",
       "industrial_km                            0.0\n",
       "railroad_station_walk_km                 0.0\n",
       "railroad_station_walk_min                0.0\n",
       "public_transport_station_km              0.0\n",
       "public_transport_station_min_walk        0.0\n",
       "mkad_km                                  0.0\n",
       "ttk_km                                   0.0\n",
       "sadovoe_km                               0.0\n",
       "bulvar_ring_km                           0.0\n",
       "kremlin_km                               0.0\n",
       "big_road1_1line                          0.0\n",
       "big_market_km                            0.0\n",
       "market_shop_km                           0.0\n",
       "fitness_km                               0.0\n",
       "swim_pool_km                             0.0\n",
       "ice_rink_km                              0.0\n",
       "stadium_km                               0.0\n",
       "basketball_km                            0.0\n",
       "hospice_morgue_km                        0.0\n",
       "university_km                            0.0\n",
       "workplaces_km                            0.0\n",
       "shopping_centers_km                      0.0\n",
       "office_km                                0.0\n",
       "additional_education_km                  0.0\n",
       "preschool_km                             0.0\n",
       "big_church_km                            0.0\n",
       "church_synagogue_km                      0.0\n",
       "theater_km                               0.0\n",
       "museum_km                                0.0\n",
       "ecology                                  0.0\n",
       "mosque_count_1000                        0.0\n",
       "price_doc                                0.0\n",
       "dtype: float64"
      ]
     },
     "execution_count": 75,
     "metadata": {},
     "output_type": "execute_result"
    }
   ],
   "source": [
    "#создаем копию исходной таблицы\n",
    "drop_data = sber_data.copy()\n",
    "#задаем минимальный порог: вычисляем 70% от числа строк\n",
    "thresh = drop_data.shape[0]*0.7\n",
    "#удаляем столбцы, в которых более 30% (100-70) пропусков\n",
    "drop_data = drop_data.dropna(thresh=thresh, axis=1)\n",
    "#удаляем записи, в которых есть хотя бы 1 пропуск\n",
    "drop_data = drop_data.dropna(axis=0)\n",
    "#отображаем результирующую долю пропусков\n",
    "drop_data.isnull().mean()"
   ]
  },
  {
   "cell_type": "code",
   "execution_count": 76,
   "id": "7e985b96-8d97-405b-87a4-cbb12432c712",
   "metadata": {},
   "outputs": [
    {
     "data": {
      "text/plain": [
       "(20888, 60)"
      ]
     },
     "execution_count": 76,
     "metadata": {},
     "output_type": "execute_result"
    }
   ],
   "source": [
    "drop_data.shape"
   ]
  },
  {
   "cell_type": "markdown",
   "id": "802d85ba",
   "metadata": {},
   "source": [
    "Итак, мы удалили один столбец и ⅓ всех записей для того, чтобы избавиться от пропусков. Не слишком ли это много и что с этим можно сделать?"
   ]
  },
  {
   "cell_type": "markdown",
   "id": "08dbdc43-5647-4866-92d0-fa9f664a99d5",
   "metadata": {},
   "source": [
    "**2. Заполнение недостающих значений**"
   ]
  },
  {
   "cell_type": "markdown",
   "id": "ddb9f33b",
   "metadata": {},
   "source": [
    "Другой способ бороться с пропусками - заполнить их константами. Чаще всего пустые места заполняют средним/медианой/модой для числовых признаков и модальным значением для категориальных признаков.\n",
    "\n",
    "Недостаток данного метода - искажение истинных распределений признаков\n",
    "<img src = https://raw.githubusercontent.com/AndreyRysistov/DatasetsForPandas/main/fill_na.jpg>"
   ]
  },
  {
   "cell_type": "markdown",
   "id": "c63d8e59",
   "metadata": {},
   "source": [
    "Рассмотрим распределения признаков до заполнения"
   ]
  },
  {
   "cell_type": "code",
   "execution_count": 77,
   "id": "e777f146-9f29-40be-ba06-93b997c0523c",
   "metadata": {},
   "outputs": [
    {
     "data": {
      "image/png": "[encoded data removed]",
      "text/plain": [
       "<Figure size 2000x800 with 9 Axes>"
      ]
     },
     "metadata": {},
     "output_type": "display_data"
    }
   ],
   "source": [
    "cols = cols_with_null.index\n",
    "sber_data[cols].hist(figsize=(20, 8));"
   ]
  },
  {
   "cell_type": "code",
   "execution_count": 78,
   "id": "0c4c6493-5c3c-47f5-8616-a0fba5eea942",
   "metadata": {},
   "outputs": [
    {
     "data": {
      "application/vnd.microsoft.datawrangler.viewer.v0+json": {
       "columns": [
        {
         "name": "index",
         "rawType": "object",
         "type": "string"
        },
        {
         "name": "0",
         "rawType": "float64",
         "type": "float"
        }
       ],
       "ref": "10de8246-7b07-4e53-8684-a1478c45da50",
       "rows": [
        [
         "id",
         "0.0"
        ],
        [
         "full_sq",
         "0.0"
        ],
        [
         "life_sq",
         "0.0"
        ],
        [
         "floor",
         "0.0"
        ],
        [
         "sub_area",
         "0.0"
        ],
        [
         "preschool_quota",
         "0.0"
        ],
        [
         "preschool_education_centers_raion",
         "0.0"
        ],
        [
         "school_quota",
         "0.0"
        ],
        [
         "school_education_centers_raion",
         "0.0"
        ],
        [
         "school_education_centers_top_20_raion",
         "0.0"
        ],
        [
         "hospital_beds_raion",
         "0.0"
        ],
        [
         "healthcare_centers_raion",
         "0.0"
        ],
        [
         "university_top_20_raion",
         "0.0"
        ],
        [
         "sport_objects_raion",
         "0.0"
        ],
        [
         "additional_education_raion",
         "0.0"
        ],
        [
         "culture_objects_top_25_raion",
         "0.0"
        ],
        [
         "shopping_centers_raion",
         "0.0"
        ],
        [
         "office_raion",
         "0.0"
        ],
        [
         "oil_chemistry_raion",
         "0.0"
        ],
        [
         "railroad_terminal_raion",
         "0.0"
        ],
        [
         "nuclear_reactor_raion",
         "0.0"
        ],
        [
         "metro_min_avto",
         "0.0"
        ],
        [
         "metro_km_avto",
         "0.0"
        ],
        [
         "metro_min_walk",
         "0.0"
        ],
        [
         "metro_km_walk",
         "0.0"
        ],
        [
         "kindergarten_km",
         "0.0"
        ],
        [
         "school_km",
         "0.0"
        ],
        [
         "park_km",
         "0.0"
        ],
        [
         "green_zone_km",
         "0.0"
        ],
        [
         "industrial_km",
         "0.0"
        ],
        [
         "railroad_station_walk_km",
         "0.0"
        ],
        [
         "railroad_station_walk_min",
         "0.0"
        ],
        [
         "public_transport_station_km",
         "0.0"
        ],
        [
         "public_transport_station_min_walk",
         "0.0"
        ],
        [
         "mkad_km",
         "0.0"
        ],
        [
         "ttk_km",
         "0.0"
        ],
        [
         "sadovoe_km",
         "0.0"
        ],
        [
         "bulvar_ring_km",
         "0.0"
        ],
        [
         "kremlin_km",
         "0.0"
        ],
        [
         "big_road1_1line",
         "0.0"
        ],
        [
         "big_market_km",
         "0.0"
        ],
        [
         "market_shop_km",
         "0.0"
        ],
        [
         "fitness_km",
         "0.0"
        ],
        [
         "swim_pool_km",
         "0.0"
        ],
        [
         "ice_rink_km",
         "0.0"
        ],
        [
         "stadium_km",
         "0.0"
        ],
        [
         "basketball_km",
         "0.0"
        ],
        [
         "hospice_morgue_km",
         "0.0"
        ],
        [
         "university_km",
         "0.0"
        ],
        [
         "workplaces_km",
         "0.0"
        ]
       ],
       "shape": {
        "columns": 1,
        "rows": 61
       }
      },
      "text/plain": [
       "id                   0.0\n",
       "full_sq              0.0\n",
       "life_sq              0.0\n",
       "floor                0.0\n",
       "sub_area             0.0\n",
       "                    ... \n",
       "theater_km           0.0\n",
       "museum_km            0.0\n",
       "ecology              0.0\n",
       "mosque_count_1000    0.0\n",
       "price_doc            0.0\n",
       "Length: 61, dtype: float64"
      ]
     },
     "execution_count": 78,
     "metadata": {},
     "output_type": "execute_result"
    }
   ],
   "source": [
    "#создаем копию исходной таблицы\n",
    "fill_data = sber_data.copy()\n",
    "#создаем словарь имя столбца: число(признак) на который надо заменить пропуски\n",
    "values = {\n",
    "    'life_sq': fill_data['full_sq'],\n",
    "    'metro_min_walk': fill_data['metro_min_walk'].median(),\n",
    "    'metro_km_walk': fill_data['metro_km_walk'].median(),\n",
    "    'railroad_station_walk_km': fill_data['railroad_station_walk_km'].median(),\n",
    "    'railroad_station_walk_min': fill_data['railroad_station_walk_min'].median(),\n",
    "    'hospital_beds_raion': fill_data['hospital_beds_raion'].mode()[0],\n",
    "    'preschool_quota': fill_data['preschool_quota'].mode()[0],\n",
    "    'school_quota': fill_data['school_quota'].mode()[0],\n",
    "    'floor': fill_data['floor'].mode()[0]\n",
    "}\n",
    "#заполняем пропуски в соответствии с заявленным словарем\n",
    "fill_data = fill_data.fillna(values)\n",
    "#выводим результирующую долю пропусков\n",
    "fill_data.isnull().mean()"
   ]
  },
  {
   "cell_type": "markdown",
   "id": "6b29f83a",
   "metadata": {},
   "source": [
    "Рассмотрим распределения признаков после заполнения пропусков константами"
   ]
  },
  {
   "cell_type": "code",
   "execution_count": 79,
   "id": "947f1523-1258-454f-a9f4-13e2d02a6847",
   "metadata": {},
   "outputs": [
    {
     "data": {
      "image/png": "[encoded data removed]",
      "text/plain": [
       "<Figure size 2000x800 with 9 Axes>"
      ]
     },
     "metadata": {},
     "output_type": "display_data"
    }
   ],
   "source": [
    "cols = cols_with_null.index\n",
    "fill_data[cols].hist(figsize=(20, 8));"
   ]
  },
  {
   "cell_type": "markdown",
   "id": "c82340a2",
   "metadata": {},
   "source": [
    "Обратим внимание на то, как сильно изменилось распределение для признака hospital_beds_raion. Это связано с тем, что мы заполнили модальным значением почти 47 % общих данных. В результате мы кардинально исказили исходное распределение признака, что может плохо сказаться на модели."
   ]
  },
  {
   "cell_type": "markdown",
   "id": "25d21025-bfe2-40bc-9a3d-f1a0a39393ed",
   "metadata": {},
   "source": [
    "**3. Заполнение недостающих значений с добавлением признака-индикатора**\n",
    "\n",
    "Если мы используем заполнение пропусков константами, то может имеет смысл сказать модели о том, что на этом месте был пропуск? Давайте добавим к нашим данным признаки-индикаторы, которые будут сигнализировать о том, что в столбце на определенном месте в таблице был пропуск, это место в столбце- индикаторе будем помечать как True. Эта эвристика пытается снизить влияние искажения признака, указав модели на места, где мы \"нафантазировали\" данные.\n",
    "\n",
    "<img src=https://raw.githubusercontent.com/AndreyRysistov/DatasetsForPandas/main/indicator_na.jpg>"
   ]
  },
  {
   "cell_type": "code",
   "execution_count": 80,
   "id": "9fa32fff-abc5-47cb-9f65-c9bc02df8eb4",
   "metadata": {},
   "outputs": [
    {
     "data": {
      "application/vnd.microsoft.datawrangler.viewer.v0+json": {
       "columns": [
        {
         "name": "index",
         "rawType": "object",
         "type": "string"
        },
        {
         "name": "0",
         "rawType": "float64",
         "type": "float"
        }
       ],
       "ref": "a1eee66c-fe10-47e9-932f-afb6a9993ba7",
       "rows": [
        [
         "id",
         "0.0"
        ],
        [
         "full_sq",
         "0.0"
        ],
        [
         "life_sq",
         "0.0"
        ],
        [
         "floor",
         "0.0"
        ],
        [
         "sub_area",
         "0.0"
        ],
        [
         "preschool_quota",
         "0.0"
        ],
        [
         "preschool_education_centers_raion",
         "0.0"
        ],
        [
         "school_quota",
         "0.0"
        ],
        [
         "school_education_centers_raion",
         "0.0"
        ],
        [
         "school_education_centers_top_20_raion",
         "0.0"
        ],
        [
         "hospital_beds_raion",
         "0.0"
        ],
        [
         "healthcare_centers_raion",
         "0.0"
        ],
        [
         "university_top_20_raion",
         "0.0"
        ],
        [
         "sport_objects_raion",
         "0.0"
        ],
        [
         "additional_education_raion",
         "0.0"
        ],
        [
         "culture_objects_top_25_raion",
         "0.0"
        ],
        [
         "shopping_centers_raion",
         "0.0"
        ],
        [
         "office_raion",
         "0.0"
        ],
        [
         "oil_chemistry_raion",
         "0.0"
        ],
        [
         "railroad_terminal_raion",
         "0.0"
        ],
        [
         "nuclear_reactor_raion",
         "0.0"
        ],
        [
         "metro_min_avto",
         "0.0"
        ],
        [
         "metro_km_avto",
         "0.0"
        ],
        [
         "metro_min_walk",
         "0.0"
        ],
        [
         "metro_km_walk",
         "0.0"
        ],
        [
         "kindergarten_km",
         "0.0"
        ],
        [
         "school_km",
         "0.0"
        ],
        [
         "park_km",
         "0.0"
        ],
        [
         "green_zone_km",
         "0.0"
        ],
        [
         "industrial_km",
         "0.0"
        ],
        [
         "railroad_station_walk_km",
         "0.0"
        ],
        [
         "railroad_station_walk_min",
         "0.0"
        ],
        [
         "public_transport_station_km",
         "0.0"
        ],
        [
         "public_transport_station_min_walk",
         "0.0"
        ],
        [
         "mkad_km",
         "0.0"
        ],
        [
         "ttk_km",
         "0.0"
        ],
        [
         "sadovoe_km",
         "0.0"
        ],
        [
         "bulvar_ring_km",
         "0.0"
        ],
        [
         "kremlin_km",
         "0.0"
        ],
        [
         "big_road1_1line",
         "0.0"
        ],
        [
         "big_market_km",
         "0.0"
        ],
        [
         "market_shop_km",
         "0.0"
        ],
        [
         "fitness_km",
         "0.0"
        ],
        [
         "swim_pool_km",
         "0.0"
        ],
        [
         "ice_rink_km",
         "0.0"
        ],
        [
         "stadium_km",
         "0.0"
        ],
        [
         "basketball_km",
         "0.0"
        ],
        [
         "hospice_morgue_km",
         "0.0"
        ],
        [
         "university_km",
         "0.0"
        ],
        [
         "workplaces_km",
         "0.0"
        ]
       ],
       "shape": {
        "columns": 1,
        "rows": 70
       }
      },
      "text/plain": [
       "id                                    0.0\n",
       "full_sq                               0.0\n",
       "life_sq                               0.0\n",
       "floor                                 0.0\n",
       "sub_area                              0.0\n",
       "                                     ... \n",
       "floor_was_null                        0.0\n",
       "metro_min_walk_was_null               0.0\n",
       "metro_km_walk_was_null                0.0\n",
       "railroad_station_walk_km_was_null     0.0\n",
       "railroad_station_walk_min_was_null    0.0\n",
       "Length: 70, dtype: float64"
      ]
     },
     "execution_count": 80,
     "metadata": {},
     "output_type": "execute_result"
    }
   ],
   "source": [
    "#создаем копию исходной таблицы\n",
    "indicator_data = sber_data.copy()\n",
    "#в цикле пробегаемся по названиям столбцов с пропусками\n",
    "for col in cols_with_null.index:\n",
    "    #создаем новый признак-индикатор как col_was_null\n",
    "    indicator_data[col + '_was_null'] = indicator_data[col].isnull()\n",
    "#создаем словарь имя столбца: число(признак) на который надо заменить пропуски   \n",
    "values = {\n",
    "    'life_sq': indicator_data['full_sq'],\n",
    "    'metro_min_walk': indicator_data['metro_min_walk'].median(),\n",
    "    'metro_km_walk': indicator_data['metro_km_walk'].median(),\n",
    "    'railroad_station_walk_km': indicator_data['railroad_station_walk_km'].median(),\n",
    "    'railroad_station_walk_min': indicator_data['railroad_station_walk_min'].median(),\n",
    "    'hospital_beds_raion': indicator_data['hospital_beds_raion'].mode()[0],\n",
    "    'preschool_quota': indicator_data['preschool_quota'].mode()[0],\n",
    "    'school_quota': indicator_data['school_quota'].mode()[0],\n",
    "    'floor': indicator_data['floor'].mode()[0]\n",
    "}\n",
    "#заполняем пропуски в соответствии с заявленным словарем\n",
    "indicator_data = indicator_data.fillna(values)\n",
    "#выводим результирующую долю пропусков\n",
    "indicator_data.isnull().mean()"
   ]
  },
  {
   "cell_type": "markdown",
   "id": "46c4ccae",
   "metadata": {},
   "source": [
    "Метод исходит из предположения, что, если дать модели информацию о том, что в ячейке ранее была пустота, то она будет меньше доверять таким записям и меньше учитывать её в процессе обучения. Иногда такие фишки действительно работают, иногда не дают эффекта, а иногда и вовсе могут ухудшить результат обучения и затруднить процесс обучения."
   ]
  },
  {
   "cell_type": "code",
   "execution_count": 81,
   "id": "489ba777-cebe-44a9-b26e-9174a204029e",
   "metadata": {},
   "outputs": [
    {
     "data": {
      "application/vnd.microsoft.datawrangler.viewer.v0+json": {
       "columns": [
        {
         "name": "index",
         "rawType": "int64",
         "type": "integer"
        },
        {
         "name": "id",
         "rawType": "int64",
         "type": "integer"
        },
        {
         "name": "full_sq",
         "rawType": "int64",
         "type": "integer"
        },
        {
         "name": "life_sq",
         "rawType": "float64",
         "type": "float"
        },
        {
         "name": "floor",
         "rawType": "float64",
         "type": "float"
        },
        {
         "name": "sub_area",
         "rawType": "object",
         "type": "string"
        },
        {
         "name": "preschool_quota",
         "rawType": "float64",
         "type": "float"
        },
        {
         "name": "preschool_education_centers_raion",
         "rawType": "int64",
         "type": "integer"
        },
        {
         "name": "school_quota",
         "rawType": "float64",
         "type": "float"
        },
        {
         "name": "school_education_centers_raion",
         "rawType": "int64",
         "type": "integer"
        },
        {
         "name": "school_education_centers_top_20_raion",
         "rawType": "int64",
         "type": "integer"
        },
        {
         "name": "hospital_beds_raion",
         "rawType": "float64",
         "type": "float"
        },
        {
         "name": "healthcare_centers_raion",
         "rawType": "int64",
         "type": "integer"
        },
        {
         "name": "university_top_20_raion",
         "rawType": "int64",
         "type": "integer"
        },
        {
         "name": "sport_objects_raion",
         "rawType": "int64",
         "type": "integer"
        },
        {
         "name": "additional_education_raion",
         "rawType": "int64",
         "type": "integer"
        },
        {
         "name": "culture_objects_top_25_raion",
         "rawType": "int64",
         "type": "integer"
        },
        {
         "name": "shopping_centers_raion",
         "rawType": "int64",
         "type": "integer"
        },
        {
         "name": "office_raion",
         "rawType": "int64",
         "type": "integer"
        },
        {
         "name": "oil_chemistry_raion",
         "rawType": "object",
         "type": "string"
        },
        {
         "name": "railroad_terminal_raion",
         "rawType": "object",
         "type": "string"
        },
        {
         "name": "nuclear_reactor_raion",
         "rawType": "object",
         "type": "string"
        },
        {
         "name": "metro_min_avto",
         "rawType": "float64",
         "type": "float"
        },
        {
         "name": "metro_km_avto",
         "rawType": "float64",
         "type": "float"
        },
        {
         "name": "metro_min_walk",
         "rawType": "float64",
         "type": "float"
        },
        {
         "name": "metro_km_walk",
         "rawType": "float64",
         "type": "float"
        },
        {
         "name": "kindergarten_km",
         "rawType": "float64",
         "type": "float"
        },
        {
         "name": "school_km",
         "rawType": "float64",
         "type": "float"
        },
        {
         "name": "park_km",
         "rawType": "float64",
         "type": "float"
        },
        {
         "name": "green_zone_km",
         "rawType": "float64",
         "type": "float"
        },
        {
         "name": "industrial_km",
         "rawType": "float64",
         "type": "float"
        },
        {
         "name": "railroad_station_walk_km",
         "rawType": "float64",
         "type": "float"
        },
        {
         "name": "railroad_station_walk_min",
         "rawType": "float64",
         "type": "float"
        },
        {
         "name": "public_transport_station_km",
         "rawType": "float64",
         "type": "float"
        },
        {
         "name": "public_transport_station_min_walk",
         "rawType": "float64",
         "type": "float"
        },
        {
         "name": "mkad_km",
         "rawType": "float64",
         "type": "float"
        },
        {
         "name": "ttk_km",
         "rawType": "float64",
         "type": "float"
        },
        {
         "name": "sadovoe_km",
         "rawType": "float64",
         "type": "float"
        },
        {
         "name": "bulvar_ring_km",
         "rawType": "float64",
         "type": "float"
        },
        {
         "name": "kremlin_km",
         "rawType": "float64",
         "type": "float"
        },
        {
         "name": "big_road1_1line",
         "rawType": "object",
         "type": "string"
        },
        {
         "name": "big_market_km",
         "rawType": "float64",
         "type": "float"
        },
        {
         "name": "market_shop_km",
         "rawType": "float64",
         "type": "float"
        },
        {
         "name": "fitness_km",
         "rawType": "float64",
         "type": "float"
        },
        {
         "name": "swim_pool_km",
         "rawType": "float64",
         "type": "float"
        },
        {
         "name": "ice_rink_km",
         "rawType": "float64",
         "type": "float"
        },
        {
         "name": "stadium_km",
         "rawType": "float64",
         "type": "float"
        },
        {
         "name": "basketball_km",
         "rawType": "float64",
         "type": "float"
        },
        {
         "name": "hospice_morgue_km",
         "rawType": "float64",
         "type": "float"
        },
        {
         "name": "university_km",
         "rawType": "float64",
         "type": "float"
        },
        {
         "name": "workplaces_km",
         "rawType": "float64",
         "type": "float"
        },
        {
         "name": "shopping_centers_km",
         "rawType": "float64",
         "type": "float"
        },
        {
         "name": "office_km",
         "rawType": "float64",
         "type": "float"
        },
        {
         "name": "additional_education_km",
         "rawType": "float64",
         "type": "float"
        },
        {
         "name": "preschool_km",
         "rawType": "float64",
         "type": "float"
        },
        {
         "name": "big_church_km",
         "rawType": "float64",
         "type": "float"
        },
        {
         "name": "church_synagogue_km",
         "rawType": "float64",
         "type": "float"
        },
        {
         "name": "theater_km",
         "rawType": "float64",
         "type": "float"
        },
        {
         "name": "museum_km",
         "rawType": "float64",
         "type": "float"
        },
        {
         "name": "ecology",
         "rawType": "object",
         "type": "string"
        },
        {
         "name": "mosque_count_1000",
         "rawType": "int64",
         "type": "integer"
        },
        {
         "name": "price_doc",
         "rawType": "int64",
         "type": "integer"
        },
        {
         "name": "hospital_beds_raion_was_null",
         "rawType": "bool",
         "type": "boolean"
        },
        {
         "name": "preschool_quota_was_null",
         "rawType": "bool",
         "type": "boolean"
        },
        {
         "name": "school_quota_was_null",
         "rawType": "bool",
         "type": "boolean"
        },
        {
         "name": "life_sq_was_null",
         "rawType": "bool",
         "type": "boolean"
        },
        {
         "name": "floor_was_null",
         "rawType": "bool",
         "type": "boolean"
        },
        {
         "name": "metro_min_walk_was_null",
         "rawType": "bool",
         "type": "boolean"
        },
        {
         "name": "metro_km_walk_was_null",
         "rawType": "bool",
         "type": "boolean"
        },
        {
         "name": "railroad_station_walk_km_was_null",
         "rawType": "bool",
         "type": "boolean"
        },
        {
         "name": "railroad_station_walk_min_was_null",
         "rawType": "bool",
         "type": "boolean"
        }
       ],
       "ref": "e4802f73-ea0b-4d2b-a07f-76b6cca629b8",
       "rows": [
        [
         "0",
         "1",
         "43",
         "27.0",
         "4.0",
         "Bibirevo",
         "5001.0",
         "5",
         "11065.0",
         "5",
         "0",
         "240.0",
         "1",
         "0",
         "7",
         "3",
         "0",
         "16",
         "1",
         "no",
         "no",
         "no",
         "2.590241095",
         "1.131259906",
         "13.57511887",
         "1.131259906",
         "0.145699552",
         "0.17797535",
         "2.158587074",
         "0.600973099",
         "1.080934313",
         "5.419893032",
         "65.03871639",
         "0.274985143",
         "3.299821714",
         "1.42239141",
         "10.9185867",
         "13.10061764",
         "13.67565705",
         "15.15621058",
         "no",
         "10.81417151",
         "1.676258313",
         "0.485841388",
         "3.065047099",
         "1.107594209",
         "8.148590774",
         "3.516512911",
         "2.392353035",
         "6.715025787",
         "0.884350021",
         "0.648487637",
         "0.637188832",
         "0.947961657",
         "0.17797535",
         "0.625783434",
         "0.628186549",
         "14.05304655",
         "7.389497904",
         "good",
         "0",
         "5850000",
         "False",
         "False",
         "False",
         "False",
         "False",
         "False",
         "False",
         "False",
         "False"
        ],
        [
         "1",
         "2",
         "34",
         "19.0",
         "3.0",
         "Nagatinskij Zaton",
         "3119.0",
         "5",
         "6237.0",
         "8",
         "0",
         "229.0",
         "1",
         "0",
         "6",
         "1",
         "1",
         "3",
         "0",
         "no",
         "no",
         "no",
         "0.936699728",
         "0.647336757",
         "7.620630408",
         "0.635052534",
         "0.147754269",
         "0.273345319",
         "0.550689737",
         "0.065321162",
         "0.966479097",
         "3.411993084",
         "40.943917",
         "0.065263344",
         "0.78316013",
         "9.503405157",
         "3.103995954",
         "6.444333466",
         "8.132640073",
         "8.698054189",
         "no",
         "6.910567711",
         "3.424716092",
         "0.668363679",
         "2.000153804",
         "8.97282283",
         "6.127072782",
         "1.161578983",
         "2.543746975",
         "1.852560245",
         "0.686251693",
         "0.519311324",
         "0.688796317",
         "1.072315063",
         "0.273345319",
         "0.967820571",
         "0.471446524",
         "6.829888847",
         "0.709260033",
         "excellent",
         "0",
         "6000000",
         "False",
         "False",
         "False",
         "False",
         "False",
         "False",
         "False",
         "False",
         "False"
        ],
        [
         "2",
         "3",
         "43",
         "29.0",
         "2.0",
         "Tekstil'shhiki",
         "1463.0",
         "4",
         "5580.0",
         "7",
         "0",
         "1183.0",
         "1",
         "0",
         "5",
         "1",
         "0",
         "0",
         "1",
         "no",
         "no",
         "no",
         "2.120998901",
         "1.637996285",
         "17.3515154",
         "1.445959617",
         "0.049101536",
         "0.158071895",
         "0.374847751",
         "0.453172405",
         "0.939275144",
         "1.277658039",
         "15.33189647",
         "0.328756044",
         "3.945072522",
         "5.60479992",
         "2.927487097",
         "6.963402995",
         "8.054252314",
         "9.067884956",
         "no",
         "5.75236835",
         "1.375442778",
         "0.733101062",
         "1.239303854",
         "1.978517187",
         "0.767568769",
         "1.952770629",
         "0.621357002",
         "0.841254102",
         "1.510088854",
         "1.48653302",
         "1.543048836",
         "0.391957389",
         "0.158071895",
         "3.178751487",
         "0.755946015",
         "4.273200485",
         "3.156422843",
         "poor",
         "0",
         "5700000",
         "False",
         "False",
         "False",
         "False",
         "False",
         "False",
         "False",
         "False",
         "False"
        ],
        [
         "3",
         "4",
         "89",
         "50.0",
         "9.0",
         "Mitino",
         "6839.0",
         "9",
         "17063.0",
         "10",
         "0",
         "540.0",
         "1",
         "0",
         "17",
         "6",
         "0",
         "11",
         "4",
         "no",
         "no",
         "no",
         "1.489049154",
         "0.984536582",
         "11.56562408",
         "0.963802007",
         "0.179440956",
         "0.236455018",
         "0.078090293",
         "0.106124506",
         "0.451173311",
         "4.2914325",
         "51.49719001",
         "0.131596959",
         "1.579163513",
         "2.677824281",
         "14.60650078",
         "17.45719794",
         "18.30943312",
         "19.48700542",
         "no",
         "27.89271688",
         "0.811275289",
         "0.62348431",
         "1.950316967",
         "6.483171621",
         "7.385520691",
         "4.923843177",
         "3.549557568",
         "10.9031613",
         "0.622271644",
         "0.599913582",
         "0.934273498",
         "0.8926743",
         "0.236455018",
         "1.03177679",
         "1.561504846",
         "16.99067736",
         "16.04152067",
         "good",
         "0",
         "13100000",
         "True",
         "False",
         "False",
         "False",
         "False",
         "False",
         "False",
         "False",
         "False"
        ],
        [
         "4",
         "5",
         "77",
         "77.0",
         "4.0",
         "Basmannoe",
         "3240.0",
         "7",
         "7770.0",
         "9",
         "0",
         "562.0",
         "4",
         "2",
         "25",
         "2",
         "0",
         "10",
         "93",
         "no",
         "yes",
         "no",
         "1.257186453",
         "0.876620232",
         "8.266305238",
         "0.68885877",
         "0.247901208",
         "0.376838057",
         "0.258288769",
         "0.236214054",
         "0.392870988",
         "0.853960072",
         "10.24752087",
         "0.071480323",
         "0.857763874",
         "11.61665314",
         "1.721833675",
         "0.046809568",
         "0.787593311",
         "2.578670647",
         "no",
         "9.15505713",
         "1.969737724",
         "0.220287667",
         "2.544696",
         "3.975401349",
         "3.610753828",
         "0.307915375",
         "1.864637406",
         "0.991682626",
         "0.892667526",
         "0.429052137",
         "0.077900959",
         "0.810801456",
         "0.376838057",
         "0.378755838",
         "0.121680643",
         "1.11248589",
         "1.800124877",
         "excellent",
         "0",
         "16331452",
         "False",
         "False",
         "False",
         "False",
         "False",
         "False",
         "False",
         "False",
         "False"
        ]
       ],
       "shape": {
        "columns": 70,
        "rows": 5
       }
      },
      "text/html": [
       "<div>\n",
       "<style scoped>\n",
       "    .dataframe tbody tr th:only-of-type {\n",
       "        vertical-align: middle;\n",
       "    }\n",
       "\n",
       "    .dataframe tbody tr th {\n",
       "        vertical-align: top;\n",
       "    }\n",
       "\n",
       "    .dataframe thead th {\n",
       "        text-align: right;\n",
       "    }\n",
       "</style>\n",
       "<table border=\"1\" class=\"dataframe\">\n",
       "  <thead>\n",
       "    <tr style=\"text-align: right;\">\n",
       "      <th></th>\n",
       "      <th>id</th>\n",
       "      <th>full_sq</th>\n",
       "      <th>life_sq</th>\n",
       "      <th>floor</th>\n",
       "      <th>sub_area</th>\n",
       "      <th>preschool_quota</th>\n",
       "      <th>preschool_education_centers_raion</th>\n",
       "      <th>school_quota</th>\n",
       "      <th>school_education_centers_raion</th>\n",
       "      <th>school_education_centers_top_20_raion</th>\n",
       "      <th>...</th>\n",
       "      <th>price_doc</th>\n",
       "      <th>hospital_beds_raion_was_null</th>\n",
       "      <th>preschool_quota_was_null</th>\n",
       "      <th>school_quota_was_null</th>\n",
       "      <th>life_sq_was_null</th>\n",
       "      <th>floor_was_null</th>\n",
       "      <th>metro_min_walk_was_null</th>\n",
       "      <th>metro_km_walk_was_null</th>\n",
       "      <th>railroad_station_walk_km_was_null</th>\n",
       "      <th>railroad_station_walk_min_was_null</th>\n",
       "    </tr>\n",
       "  </thead>\n",
       "  <tbody>\n",
       "    <tr>\n",
       "      <th>0</th>\n",
       "      <td>1</td>\n",
       "      <td>43</td>\n",
       "      <td>27.0</td>\n",
       "      <td>4.0</td>\n",
       "      <td>Bibirevo</td>\n",
       "      <td>5001.0</td>\n",
       "      <td>5</td>\n",
       "      <td>11065.0</td>\n",
       "      <td>5</td>\n",
       "      <td>0</td>\n",
       "      <td>...</td>\n",
       "      <td>5850000</td>\n",
       "      <td>False</td>\n",
       "      <td>False</td>\n",
       "      <td>False</td>\n",
       "      <td>False</td>\n",
       "      <td>False</td>\n",
       "      <td>False</td>\n",
       "      <td>False</td>\n",
       "      <td>False</td>\n",
       "      <td>False</td>\n",
       "    </tr>\n",
       "    <tr>\n",
       "      <th>1</th>\n",
       "      <td>2</td>\n",
       "      <td>34</td>\n",
       "      <td>19.0</td>\n",
       "      <td>3.0</td>\n",
       "      <td>Nagatinskij Zaton</td>\n",
       "      <td>3119.0</td>\n",
       "      <td>5</td>\n",
       "      <td>6237.0</td>\n",
       "      <td>8</td>\n",
       "      <td>0</td>\n",
       "      <td>...</td>\n",
       "      <td>6000000</td>\n",
       "      <td>False</td>\n",
       "      <td>False</td>\n",
       "      <td>False</td>\n",
       "      <td>False</td>\n",
       "      <td>False</td>\n",
       "      <td>False</td>\n",
       "      <td>False</td>\n",
       "      <td>False</td>\n",
       "      <td>False</td>\n",
       "    </tr>\n",
       "    <tr>\n",
       "      <th>2</th>\n",
       "      <td>3</td>\n",
       "      <td>43</td>\n",
       "      <td>29.0</td>\n",
       "      <td>2.0</td>\n",
       "      <td>Tekstil'shhiki</td>\n",
       "      <td>1463.0</td>\n",
       "      <td>4</td>\n",
       "      <td>5580.0</td>\n",
       "      <td>7</td>\n",
       "      <td>0</td>\n",
       "      <td>...</td>\n",
       "      <td>5700000</td>\n",
       "      <td>False</td>\n",
       "      <td>False</td>\n",
       "      <td>False</td>\n",
       "      <td>False</td>\n",
       "      <td>False</td>\n",
       "      <td>False</td>\n",
       "      <td>False</td>\n",
       "      <td>False</td>\n",
       "      <td>False</td>\n",
       "    </tr>\n",
       "    <tr>\n",
       "      <th>3</th>\n",
       "      <td>4</td>\n",
       "      <td>89</td>\n",
       "      <td>50.0</td>\n",
       "      <td>9.0</td>\n",
       "      <td>Mitino</td>\n",
       "      <td>6839.0</td>\n",
       "      <td>9</td>\n",
       "      <td>17063.0</td>\n",
       "      <td>10</td>\n",
       "      <td>0</td>\n",
       "      <td>...</td>\n",
       "      <td>13100000</td>\n",
       "      <td>True</td>\n",
       "      <td>False</td>\n",
       "      <td>False</td>\n",
       "      <td>False</td>\n",
       "      <td>False</td>\n",
       "      <td>False</td>\n",
       "      <td>False</td>\n",
       "      <td>False</td>\n",
       "      <td>False</td>\n",
       "    </tr>\n",
       "    <tr>\n",
       "      <th>4</th>\n",
       "      <td>5</td>\n",
       "      <td>77</td>\n",
       "      <td>77.0</td>\n",
       "      <td>4.0</td>\n",
       "      <td>Basmannoe</td>\n",
       "      <td>3240.0</td>\n",
       "      <td>7</td>\n",
       "      <td>7770.0</td>\n",
       "      <td>9</td>\n",
       "      <td>0</td>\n",
       "      <td>...</td>\n",
       "      <td>16331452</td>\n",
       "      <td>False</td>\n",
       "      <td>False</td>\n",
       "      <td>False</td>\n",
       "      <td>False</td>\n",
       "      <td>False</td>\n",
       "      <td>False</td>\n",
       "      <td>False</td>\n",
       "      <td>False</td>\n",
       "      <td>False</td>\n",
       "    </tr>\n",
       "  </tbody>\n",
       "</table>\n",
       "<p>5 rows × 70 columns</p>\n",
       "</div>"
      ],
      "text/plain": [
       "   id  full_sq  life_sq  floor           sub_area  preschool_quota  \\\n",
       "0   1       43     27.0    4.0           Bibirevo           5001.0   \n",
       "1   2       34     19.0    3.0  Nagatinskij Zaton           3119.0   \n",
       "2   3       43     29.0    2.0     Tekstil'shhiki           1463.0   \n",
       "3   4       89     50.0    9.0             Mitino           6839.0   \n",
       "4   5       77     77.0    4.0          Basmannoe           3240.0   \n",
       "\n",
       "   preschool_education_centers_raion  school_quota  \\\n",
       "0                                  5       11065.0   \n",
       "1                                  5        6237.0   \n",
       "2                                  4        5580.0   \n",
       "3                                  9       17063.0   \n",
       "4                                  7        7770.0   \n",
       "\n",
       "   school_education_centers_raion  school_education_centers_top_20_raion  ...  \\\n",
       "0                               5                                      0  ...   \n",
       "1                               8                                      0  ...   \n",
       "2                               7                                      0  ...   \n",
       "3                              10                                      0  ...   \n",
       "4                               9                                      0  ...   \n",
       "\n",
       "   price_doc  hospital_beds_raion_was_null  preschool_quota_was_null  \\\n",
       "0    5850000                         False                     False   \n",
       "1    6000000                         False                     False   \n",
       "2    5700000                         False                     False   \n",
       "3   13100000                          True                     False   \n",
       "4   16331452                         False                     False   \n",
       "\n",
       "   school_quota_was_null  life_sq_was_null  floor_was_null  \\\n",
       "0                  False             False           False   \n",
       "1                  False             False           False   \n",
       "2                  False             False           False   \n",
       "3                  False             False           False   \n",
       "4                  False             False           False   \n",
       "\n",
       "   metro_min_walk_was_null  metro_km_walk_was_null  \\\n",
       "0                    False                   False   \n",
       "1                    False                   False   \n",
       "2                    False                   False   \n",
       "3                    False                   False   \n",
       "4                    False                   False   \n",
       "\n",
       "  railroad_station_walk_km_was_null railroad_station_walk_min_was_null  \n",
       "0                             False                              False  \n",
       "1                             False                              False  \n",
       "2                             False                              False  \n",
       "3                             False                              False  \n",
       "4                             False                              False  \n",
       "\n",
       "[5 rows x 70 columns]"
      ]
     },
     "metadata": {},
     "output_type": "display_data"
    }
   ],
   "source": [
    "display(indicator_data.head())"
   ]
  },
  {
   "cell_type": "markdown",
   "id": "7a87d37b-9863-43ba-880f-36c43077553b",
   "metadata": {},
   "source": [
    "**4. Комбинирование методов**"
   ]
  },
  {
   "cell_type": "markdown",
   "id": "ec900231",
   "metadata": {},
   "source": [
    "Методы можно комбинировать. Например, мы можем:\n",
    "\n",
    "* удалить столбцы, в которых более 30 % пропусков;\n",
    "* удалить записи, в которых более двух пропусков одновременно;\n",
    "* заполнить оставшиеся ячейки константами."
   ]
  },
  {
   "cell_type": "code",
   "execution_count": 82,
   "id": "a1c8c825-1066-4b9c-b1ec-409fa649aff6",
   "metadata": {},
   "outputs": [
    {
     "data": {
      "application/vnd.microsoft.datawrangler.viewer.v0+json": {
       "columns": [
        {
         "name": "index",
         "rawType": "object",
         "type": "string"
        },
        {
         "name": "0",
         "rawType": "float64",
         "type": "float"
        }
       ],
       "ref": "34404e3a-b94f-4f02-abc1-41a3f3ae17ae",
       "rows": [
        [
         "id",
         "0.0"
        ],
        [
         "full_sq",
         "0.0"
        ],
        [
         "life_sq",
         "0.0"
        ],
        [
         "floor",
         "0.0"
        ],
        [
         "sub_area",
         "0.0"
        ],
        [
         "preschool_quota",
         "0.0"
        ],
        [
         "preschool_education_centers_raion",
         "0.0"
        ],
        [
         "school_quota",
         "0.0"
        ],
        [
         "school_education_centers_raion",
         "0.0"
        ],
        [
         "school_education_centers_top_20_raion",
         "0.0"
        ],
        [
         "healthcare_centers_raion",
         "0.0"
        ],
        [
         "university_top_20_raion",
         "0.0"
        ],
        [
         "sport_objects_raion",
         "0.0"
        ],
        [
         "additional_education_raion",
         "0.0"
        ],
        [
         "culture_objects_top_25_raion",
         "0.0"
        ],
        [
         "shopping_centers_raion",
         "0.0"
        ],
        [
         "office_raion",
         "0.0"
        ],
        [
         "oil_chemistry_raion",
         "0.0"
        ],
        [
         "railroad_terminal_raion",
         "0.0"
        ],
        [
         "nuclear_reactor_raion",
         "0.0"
        ],
        [
         "metro_min_avto",
         "0.0"
        ],
        [
         "metro_km_avto",
         "0.0"
        ],
        [
         "metro_min_walk",
         "0.0"
        ],
        [
         "metro_km_walk",
         "0.0"
        ],
        [
         "kindergarten_km",
         "0.0"
        ],
        [
         "school_km",
         "0.0"
        ],
        [
         "park_km",
         "0.0"
        ],
        [
         "green_zone_km",
         "0.0"
        ],
        [
         "industrial_km",
         "0.0"
        ],
        [
         "railroad_station_walk_km",
         "0.0"
        ],
        [
         "railroad_station_walk_min",
         "0.0"
        ],
        [
         "public_transport_station_km",
         "0.0"
        ],
        [
         "public_transport_station_min_walk",
         "0.0"
        ],
        [
         "mkad_km",
         "0.0"
        ],
        [
         "ttk_km",
         "0.0"
        ],
        [
         "sadovoe_km",
         "0.0"
        ],
        [
         "bulvar_ring_km",
         "0.0"
        ],
        [
         "kremlin_km",
         "0.0"
        ],
        [
         "big_road1_1line",
         "0.0"
        ],
        [
         "big_market_km",
         "0.0"
        ],
        [
         "market_shop_km",
         "0.0"
        ],
        [
         "fitness_km",
         "0.0"
        ],
        [
         "swim_pool_km",
         "0.0"
        ],
        [
         "ice_rink_km",
         "0.0"
        ],
        [
         "stadium_km",
         "0.0"
        ],
        [
         "basketball_km",
         "0.0"
        ],
        [
         "hospice_morgue_km",
         "0.0"
        ],
        [
         "university_km",
         "0.0"
        ],
        [
         "workplaces_km",
         "0.0"
        ],
        [
         "shopping_centers_km",
         "0.0"
        ]
       ],
       "shape": {
        "columns": 1,
        "rows": 60
       }
      },
      "text/plain": [
       "id                                       0.0\n",
       "full_sq                                  0.0\n",
       "life_sq                                  0.0\n",
       "floor                                    0.0\n",
       "sub_area                                 0.0\n",
       "preschool_quota                          0.0\n",
       "preschool_education_centers_raion        0.0\n",
       "school_quota                             0.0\n",
       "school_education_centers_raion           0.0\n",
       "school_education_centers_top_20_raion    0.0\n",
       "healthcare_centers_raion                 0.0\n",
       "university_top_20_raion                  0.0\n",
       "sport_objects_raion                      0.0\n",
       "additional_education_raion               0.0\n",
       "culture_objects_top_25_raion             0.0\n",
       "shopping_centers_raion                   0.0\n",
       "office_raion                             0.0\n",
       "oil_chemistry_raion                      0.0\n",
       "railroad_terminal_raion                  0.0\n",
       "nuclear_reactor_raion                    0.0\n",
       "metro_min_avto                           0.0\n",
       "metro_km_avto                            0.0\n",
       "metro_min_walk                           0.0\n",
       "metro_km_walk                            0.0\n",
       "kindergarten_km                          0.0\n",
       "school_km                                0.0\n",
       "park_km                                  0.0\n",
       "green_zone_km                            0.0\n",
       "industrial_km                            0.0\n",
       "railroad_station_walk_km                 0.0\n",
       "railroad_station_walk_min                0.0\n",
       "public_transport_station_km              0.0\n",
       "public_transport_station_min_walk        0.0\n",
       "mkad_km                                  0.0\n",
       "ttk_km                                   0.0\n",
       "sadovoe_km                               0.0\n",
       "bulvar_ring_km                           0.0\n",
       "kremlin_km                               0.0\n",
       "big_road1_1line                          0.0\n",
       "big_market_km                            0.0\n",
       "market_shop_km                           0.0\n",
       "fitness_km                               0.0\n",
       "swim_pool_km                             0.0\n",
       "ice_rink_km                              0.0\n",
       "stadium_km                               0.0\n",
       "basketball_km                            0.0\n",
       "hospice_morgue_km                        0.0\n",
       "university_km                            0.0\n",
       "workplaces_km                            0.0\n",
       "shopping_centers_km                      0.0\n",
       "office_km                                0.0\n",
       "additional_education_km                  0.0\n",
       "preschool_km                             0.0\n",
       "big_church_km                            0.0\n",
       "church_synagogue_km                      0.0\n",
       "theater_km                               0.0\n",
       "museum_km                                0.0\n",
       "ecology                                  0.0\n",
       "mosque_count_1000                        0.0\n",
       "price_doc                                0.0\n",
       "dtype: float64"
      ]
     },
     "metadata": {},
     "output_type": "display_data"
    }
   ],
   "source": [
    "#создаем копию исходной таблицы\n",
    "combine_data = sber_data.copy()\n",
    "\n",
    "#отбрасываем столбцы с числом пропусков более 30% (100-70)\n",
    "n = combine_data.shape[0] #число строк в таблице\n",
    "thresh = n*0.7\n",
    "combine_data = combine_data.dropna(thresh=thresh, axis=1)\n",
    "\n",
    "#отбрасываем строки с числом пропусков более 2 в строке\n",
    "m = combine_data.shape[1] #число признаков после удаления столбцов\n",
    "combine_data = combine_data.dropna(thresh=m-2, axis=0)\n",
    "\n",
    "#создаем словарь имя столбца: число(признак) на который надо заменить пропуски \n",
    "values = {\n",
    "    'life_sq': combine_data['full_sq'],\n",
    "    'metro_min_walk': combine_data['metro_min_walk'].median(),\n",
    "    'metro_km_walk': combine_data['metro_km_walk'].median(),\n",
    "    'railroad_station_walk_km': combine_data['railroad_station_walk_km'].median(),\n",
    "    'railroad_station_walk_min': combine_data['railroad_station_walk_min'].median(),\n",
    "    'preschool_quota': combine_data['preschool_quota'].mode()[0],\n",
    "    'school_quota': combine_data['school_quota'].mode()[0],\n",
    "    'floor': combine_data['floor'].mode()[0]\n",
    "}\n",
    "#заполняем оставшиеся записи константами в соответствии со словарем values\n",
    "combine_data = combine_data.fillna(values)\n",
    "#выводим результирующую долю пропусков\n",
    "display(combine_data.isnull().mean())"
   ]
  },
  {
   "cell_type": "code",
   "execution_count": 83,
   "id": "f800ee52-1afb-4c21-bbd5-1f87b17fe2ec",
   "metadata": {},
   "outputs": [
    {
     "name": "stdout",
     "output_type": "stream",
     "text": [
      "(26800, 60)\n"
     ]
    }
   ],
   "source": [
    "print(combine_data.shape)"
   ]
  },
  {
   "cell_type": "markdown",
   "id": "c9ac6435-0980-4457-b159-5e1efd333404",
   "metadata": {},
   "source": [
    "### Методы выявления выбросов"
   ]
  },
  {
   "cell_type": "markdown",
   "id": "7fda25a4-248c-4831-ba1b-596fcd059c71",
   "metadata": {},
   "source": [
    "**1. Использование статистики и здравого смысла**\n",
    "\n",
    "Это самый трудоёмкий метод, основанный на житейской логике, методе пристального взгляда и небольшом количестве статистики. Он предполагает поиск невозможных и нелогичных значений в данных.\n",
    "\n",
    "Пусть у нас есть признак, по которому мы будем искать выбросы. Давайте рассчитаем его статистические показатели (минимум, максимум, среднее, квантили) и по ним попробуем определить наличие выбросов."
   ]
  },
  {
   "cell_type": "code",
   "execution_count": 84,
   "id": "5b9528d7-f5f5-4ba7-abde-6294013ebc2e",
   "metadata": {},
   "outputs": [
    {
     "data": {
      "application/vnd.microsoft.datawrangler.viewer.v0+json": {
       "columns": [
        {
         "name": "index",
         "rawType": "object",
         "type": "string"
        },
        {
         "name": "life_sq",
         "rawType": "float64",
         "type": "float"
        }
       ],
       "ref": "71c55a63-b9c7-4eca-bd2e-b7048c17a6f6",
       "rows": [
        [
         "count",
         "24088.0"
        ],
        [
         "mean",
         "34.403271338425775"
        ],
        [
         "std",
         "52.28573347591005"
        ],
        [
         "min",
         "0.0"
        ],
        [
         "25%",
         "20.0"
        ],
        [
         "50%",
         "30.0"
        ],
        [
         "75%",
         "43.0"
        ],
        [
         "max",
         "7478.0"
        ]
       ],
       "shape": {
        "columns": 1,
        "rows": 8
       }
      },
      "text/plain": [
       "count    24088.000000\n",
       "mean        34.403271\n",
       "std         52.285733\n",
       "min          0.000000\n",
       "25%         20.000000\n",
       "50%         30.000000\n",
       "75%         43.000000\n",
       "max       7478.000000\n",
       "Name: life_sq, dtype: float64"
      ]
     },
     "execution_count": 84,
     "metadata": {},
     "output_type": "execute_result"
    }
   ],
   "source": [
    "sber_data['life_sq'].describe()"
   ]
  },
  {
   "cell_type": "markdown",
   "id": "34eb11b0",
   "metadata": {},
   "source": [
    "Что нам говорит метод describe()? Во-первых, у нас есть квартиры с нулевой жилой площадью. Во-вторых, в то время как 75-й квантиль равен 43, максимум превышает 7 тысяч квадратных метров (целый дворец, а не квартира!). "
   ]
  },
  {
   "cell_type": "code",
   "execution_count": 85,
   "id": "abe6d837-ca18-40ff-a03b-839f54d6d664",
   "metadata": {},
   "outputs": [
    {
     "name": "stdout",
     "output_type": "stream",
     "text": [
      "45\n"
     ]
    }
   ],
   "source": [
    "print(sber_data[sber_data['life_sq'] == 0].shape[0])"
   ]
  },
  {
   "cell_type": "markdown",
   "id": "580ea58d",
   "metadata": {},
   "source": [
    "Таких помещений оказывается 45 штук. Что это за зверь?\n",
    "\n",
    "Это могут быть апартаменты — вид коммерческой недвижимости, которая юридически не является жилой площадью, но законно продаётся по ценам, сопоставимым с квартирными. Оставим их в покое.    "
   ]
  },
  {
   "cell_type": "markdown",
   "id": "978ece7a",
   "metadata": {},
   "source": [
    "А теперь выведем здания с жилой площадью более 1 000 квадратных метров:"
   ]
  },
  {
   "cell_type": "code",
   "execution_count": 86,
   "id": "2042b152-4dd9-4b06-91bb-ff5cfe5bb226",
   "metadata": {},
   "outputs": [
    {
     "data": {
      "application/vnd.microsoft.datawrangler.viewer.v0+json": {
       "columns": [
        {
         "name": "index",
         "rawType": "int64",
         "type": "integer"
        },
        {
         "name": "id",
         "rawType": "int64",
         "type": "integer"
        },
        {
         "name": "full_sq",
         "rawType": "int64",
         "type": "integer"
        },
        {
         "name": "life_sq",
         "rawType": "float64",
         "type": "float"
        },
        {
         "name": "floor",
         "rawType": "float64",
         "type": "float"
        },
        {
         "name": "sub_area",
         "rawType": "object",
         "type": "string"
        },
        {
         "name": "preschool_quota",
         "rawType": "float64",
         "type": "float"
        },
        {
         "name": "preschool_education_centers_raion",
         "rawType": "int64",
         "type": "integer"
        },
        {
         "name": "school_quota",
         "rawType": "float64",
         "type": "float"
        },
        {
         "name": "school_education_centers_raion",
         "rawType": "int64",
         "type": "integer"
        },
        {
         "name": "school_education_centers_top_20_raion",
         "rawType": "int64",
         "type": "integer"
        },
        {
         "name": "hospital_beds_raion",
         "rawType": "float64",
         "type": "float"
        },
        {
         "name": "healthcare_centers_raion",
         "rawType": "int64",
         "type": "integer"
        },
        {
         "name": "university_top_20_raion",
         "rawType": "int64",
         "type": "integer"
        },
        {
         "name": "sport_objects_raion",
         "rawType": "int64",
         "type": "integer"
        },
        {
         "name": "additional_education_raion",
         "rawType": "int64",
         "type": "integer"
        },
        {
         "name": "culture_objects_top_25_raion",
         "rawType": "int64",
         "type": "integer"
        },
        {
         "name": "shopping_centers_raion",
         "rawType": "int64",
         "type": "integer"
        },
        {
         "name": "office_raion",
         "rawType": "int64",
         "type": "integer"
        },
        {
         "name": "oil_chemistry_raion",
         "rawType": "object",
         "type": "string"
        },
        {
         "name": "railroad_terminal_raion",
         "rawType": "object",
         "type": "string"
        },
        {
         "name": "nuclear_reactor_raion",
         "rawType": "object",
         "type": "string"
        },
        {
         "name": "metro_min_avto",
         "rawType": "float64",
         "type": "float"
        },
        {
         "name": "metro_km_avto",
         "rawType": "float64",
         "type": "float"
        },
        {
         "name": "metro_min_walk",
         "rawType": "float64",
         "type": "float"
        },
        {
         "name": "metro_km_walk",
         "rawType": "float64",
         "type": "float"
        },
        {
         "name": "kindergarten_km",
         "rawType": "float64",
         "type": "float"
        },
        {
         "name": "school_km",
         "rawType": "float64",
         "type": "float"
        },
        {
         "name": "park_km",
         "rawType": "float64",
         "type": "float"
        },
        {
         "name": "green_zone_km",
         "rawType": "float64",
         "type": "float"
        },
        {
         "name": "industrial_km",
         "rawType": "float64",
         "type": "float"
        },
        {
         "name": "railroad_station_walk_km",
         "rawType": "float64",
         "type": "float"
        },
        {
         "name": "railroad_station_walk_min",
         "rawType": "float64",
         "type": "float"
        },
        {
         "name": "public_transport_station_km",
         "rawType": "float64",
         "type": "float"
        },
        {
         "name": "public_transport_station_min_walk",
         "rawType": "float64",
         "type": "float"
        },
        {
         "name": "mkad_km",
         "rawType": "float64",
         "type": "float"
        },
        {
         "name": "ttk_km",
         "rawType": "float64",
         "type": "float"
        },
        {
         "name": "sadovoe_km",
         "rawType": "float64",
         "type": "float"
        },
        {
         "name": "bulvar_ring_km",
         "rawType": "float64",
         "type": "float"
        },
        {
         "name": "kremlin_km",
         "rawType": "float64",
         "type": "float"
        },
        {
         "name": "big_road1_1line",
         "rawType": "object",
         "type": "string"
        },
        {
         "name": "big_market_km",
         "rawType": "float64",
         "type": "float"
        },
        {
         "name": "market_shop_km",
         "rawType": "float64",
         "type": "float"
        },
        {
         "name": "fitness_km",
         "rawType": "float64",
         "type": "float"
        },
        {
         "name": "swim_pool_km",
         "rawType": "float64",
         "type": "float"
        },
        {
         "name": "ice_rink_km",
         "rawType": "float64",
         "type": "float"
        },
        {
         "name": "stadium_km",
         "rawType": "float64",
         "type": "float"
        },
        {
         "name": "basketball_km",
         "rawType": "float64",
         "type": "float"
        },
        {
         "name": "hospice_morgue_km",
         "rawType": "float64",
         "type": "float"
        },
        {
         "name": "university_km",
         "rawType": "float64",
         "type": "float"
        },
        {
         "name": "workplaces_km",
         "rawType": "float64",
         "type": "float"
        },
        {
         "name": "shopping_centers_km",
         "rawType": "float64",
         "type": "float"
        },
        {
         "name": "office_km",
         "rawType": "float64",
         "type": "float"
        },
        {
         "name": "additional_education_km",
         "rawType": "float64",
         "type": "float"
        },
        {
         "name": "preschool_km",
         "rawType": "float64",
         "type": "float"
        },
        {
         "name": "big_church_km",
         "rawType": "float64",
         "type": "float"
        },
        {
         "name": "church_synagogue_km",
         "rawType": "float64",
         "type": "float"
        },
        {
         "name": "theater_km",
         "rawType": "float64",
         "type": "float"
        },
        {
         "name": "museum_km",
         "rawType": "float64",
         "type": "float"
        },
        {
         "name": "ecology",
         "rawType": "object",
         "type": "string"
        },
        {
         "name": "mosque_count_1000",
         "rawType": "int64",
         "type": "integer"
        },
        {
         "name": "price_doc",
         "rawType": "int64",
         "type": "integer"
        }
       ],
       "ref": "8bdd120d-4ee6-40eb-92e8-b8a3d5a862a8",
       "rows": [
        [
         "13546",
         "13549",
         "79",
         "7478.0",
         "8.0",
         "Poselenie Voskresenskoe",
         null,
         "0",
         null,
         "0",
         "0",
         null,
         "0",
         "0",
         "0",
         "2",
         "0",
         "0",
         "0",
         "no",
         "no",
         "no",
         "5.595300675",
         "2.254916339",
         "27.05899607",
         "2.254916339",
         "0.647239114",
         "0.826052086",
         "1.799914811",
         "0.314381737",
         "1.006133091",
         "5.784237199",
         "69.41084638",
         "0.327357187",
         "3.928286243",
         "7.229762565",
         "20.48347571",
         "23.61361442",
         "24.89313031",
         "25.59597356",
         "no",
         "14.70375644",
         "6.287163364",
         "0.680016826",
         "5.192949525",
         "13.32984735",
         "21.91143451",
         "9.989170386",
         "4.09624588",
         "18.73387841",
         "8.802152614",
         "3.231527778",
         "5.072389416",
         "1.210613187",
         "0.826052086",
         "1.582378034",
         "0.756118551",
         "21.47242064",
         "14.91733241",
         "no data",
         "0",
         "7705000"
        ]
       ],
       "shape": {
        "columns": 61,
        "rows": 1
       }
      },
      "text/html": [
       "<div>\n",
       "<style scoped>\n",
       "    .dataframe tbody tr th:only-of-type {\n",
       "        vertical-align: middle;\n",
       "    }\n",
       "\n",
       "    .dataframe tbody tr th {\n",
       "        vertical-align: top;\n",
       "    }\n",
       "\n",
       "    .dataframe thead th {\n",
       "        text-align: right;\n",
       "    }\n",
       "</style>\n",
       "<table border=\"1\" class=\"dataframe\">\n",
       "  <thead>\n",
       "    <tr style=\"text-align: right;\">\n",
       "      <th></th>\n",
       "      <th>id</th>\n",
       "      <th>full_sq</th>\n",
       "      <th>life_sq</th>\n",
       "      <th>floor</th>\n",
       "      <th>sub_area</th>\n",
       "      <th>preschool_quota</th>\n",
       "      <th>preschool_education_centers_raion</th>\n",
       "      <th>school_quota</th>\n",
       "      <th>school_education_centers_raion</th>\n",
       "      <th>school_education_centers_top_20_raion</th>\n",
       "      <th>...</th>\n",
       "      <th>office_km</th>\n",
       "      <th>additional_education_km</th>\n",
       "      <th>preschool_km</th>\n",
       "      <th>big_church_km</th>\n",
       "      <th>church_synagogue_km</th>\n",
       "      <th>theater_km</th>\n",
       "      <th>museum_km</th>\n",
       "      <th>ecology</th>\n",
       "      <th>mosque_count_1000</th>\n",
       "      <th>price_doc</th>\n",
       "    </tr>\n",
       "  </thead>\n",
       "  <tbody>\n",
       "    <tr>\n",
       "      <th>13546</th>\n",
       "      <td>13549</td>\n",
       "      <td>79</td>\n",
       "      <td>7478.0</td>\n",
       "      <td>8.0</td>\n",
       "      <td>Poselenie Voskresenskoe</td>\n",
       "      <td>NaN</td>\n",
       "      <td>0</td>\n",
       "      <td>NaN</td>\n",
       "      <td>0</td>\n",
       "      <td>0</td>\n",
       "      <td>...</td>\n",
       "      <td>5.072389</td>\n",
       "      <td>1.210613</td>\n",
       "      <td>0.826052</td>\n",
       "      <td>1.582378</td>\n",
       "      <td>0.756119</td>\n",
       "      <td>21.472421</td>\n",
       "      <td>14.917332</td>\n",
       "      <td>no data</td>\n",
       "      <td>0</td>\n",
       "      <td>7705000</td>\n",
       "    </tr>\n",
       "  </tbody>\n",
       "</table>\n",
       "<p>1 rows × 61 columns</p>\n",
       "</div>"
      ],
      "text/plain": [
       "          id  full_sq  life_sq  floor                 sub_area  \\\n",
       "13546  13549       79   7478.0    8.0  Poselenie Voskresenskoe   \n",
       "\n",
       "       preschool_quota  preschool_education_centers_raion  school_quota  \\\n",
       "13546              NaN                                  0           NaN   \n",
       "\n",
       "       school_education_centers_raion  school_education_centers_top_20_raion  \\\n",
       "13546                               0                                      0   \n",
       "\n",
       "       ...  office_km  additional_education_km  preschool_km  big_church_km  \\\n",
       "13546  ...   5.072389                 1.210613      0.826052       1.582378   \n",
       "\n",
       "       church_synagogue_km  theater_km  museum_km  ecology mosque_count_1000  \\\n",
       "13546             0.756119   21.472421  14.917332  no data                 0   \n",
       "\n",
       "      price_doc  \n",
       "13546   7705000  \n",
       "\n",
       "[1 rows x 61 columns]"
      ]
     },
     "metadata": {},
     "output_type": "display_data"
    }
   ],
   "source": [
    "display(sber_data[sber_data['life_sq'] > 1000])"
   ]
  },
  {
   "cell_type": "markdown",
   "id": "a595a3d5",
   "metadata": {},
   "source": [
    "Выброс налицо: гигантская жилая площадь (life_sq), да ещё почти в 100 раз превышает общую площадь (full_sq).\n",
    "\n",
    "Логичен вопрос: а много ли у нас таких квартир, у которых жилая площадь больше, чем суммарная?\n",
    "\n",
    "Давайте проверим это с помощью фильтрации:"
   ]
  },
  {
   "cell_type": "code",
   "execution_count": 87,
   "id": "55a32550-064c-40e4-9c58-0e98e4ade4b2",
   "metadata": {},
   "outputs": [
    {
     "name": "stdout",
     "output_type": "stream",
     "text": [
      "37\n"
     ]
    }
   ],
   "source": [
    "outliers = sber_data[sber_data['life_sq'] > sber_data['full_sq']]\n",
    "print(outliers.shape[0])"
   ]
  },
  {
   "cell_type": "markdown",
   "id": "cb9e9b20",
   "metadata": {},
   "source": [
    "Таких квартир оказывается 37 штук. Подобные наблюдения уже не поддаются здравому смыслу — они являются ошибочными, и от них стоит избавиться:"
   ]
  },
  {
   "cell_type": "code",
   "execution_count": 88,
   "id": "f25fc651-e08e-4b7b-ba54-ecacc195a36a",
   "metadata": {},
   "outputs": [
    {
     "name": "stdout",
     "output_type": "stream",
     "text": [
      "Результирующее число записей: 30434\n"
     ]
    }
   ],
   "source": [
    "cleaned = sber_data.drop(outliers.index, axis=0)\n",
    "print(f'Результирующее число записей: {cleaned.shape[0]}')"
   ]
  },
  {
   "cell_type": "markdown",
   "id": "c8d36f20",
   "metadata": {},
   "source": [
    "Ещё пример: давайте посмотрим на признак числа этажей (floor)."
   ]
  },
  {
   "cell_type": "code",
   "execution_count": 89,
   "id": "2708e8c0-fd8c-40db-8d56-849eb7d3bbac",
   "metadata": {},
   "outputs": [
    {
     "data": {
      "application/vnd.microsoft.datawrangler.viewer.v0+json": {
       "columns": [
        {
         "name": "index",
         "rawType": "object",
         "type": "string"
        },
        {
         "name": "floor",
         "rawType": "float64",
         "type": "float"
        }
       ],
       "ref": "834b56d0-63c6-4273-b9ee-9e3e1ccf53e1",
       "rows": [
        [
         "count",
         "30304.0"
        ],
        [
         "mean",
         "7.670802534318902"
        ],
        [
         "std",
         "5.319988520945879"
        ],
        [
         "min",
         "0.0"
        ],
        [
         "25%",
         "3.0"
        ],
        [
         "50%",
         "6.5"
        ],
        [
         "75%",
         "11.0"
        ],
        [
         "max",
         "77.0"
        ]
       ],
       "shape": {
        "columns": 1,
        "rows": 8
       }
      },
      "text/plain": [
       "count    30304.000000\n",
       "mean         7.670803\n",
       "std          5.319989\n",
       "min          0.000000\n",
       "25%          3.000000\n",
       "50%          6.500000\n",
       "75%         11.000000\n",
       "max         77.000000\n",
       "Name: floor, dtype: float64"
      ]
     },
     "metadata": {},
     "output_type": "display_data"
    }
   ],
   "source": [
    "display(sber_data['floor'].describe())"
   ]
  },
  {
   "cell_type": "markdown",
   "id": "d6c3d874",
   "metadata": {},
   "source": [
    "Снова видим подозрительную максимальную отметку в 77 этажей. Проверим все квартиры, которые находятся выше 50 этажей:"
   ]
  },
  {
   "cell_type": "code",
   "execution_count": 90,
   "id": "f978a422-e827-4643-ab5e-5d89643871c7",
   "metadata": {},
   "outputs": [
    {
     "data": {
      "application/vnd.microsoft.datawrangler.viewer.v0+json": {
       "columns": [
        {
         "name": "index",
         "rawType": "int64",
         "type": "integer"
        },
        {
         "name": "id",
         "rawType": "int64",
         "type": "integer"
        },
        {
         "name": "full_sq",
         "rawType": "int64",
         "type": "integer"
        },
        {
         "name": "life_sq",
         "rawType": "float64",
         "type": "float"
        },
        {
         "name": "floor",
         "rawType": "float64",
         "type": "float"
        },
        {
         "name": "sub_area",
         "rawType": "object",
         "type": "string"
        },
        {
         "name": "preschool_quota",
         "rawType": "float64",
         "type": "float"
        },
        {
         "name": "preschool_education_centers_raion",
         "rawType": "int64",
         "type": "integer"
        },
        {
         "name": "school_quota",
         "rawType": "float64",
         "type": "float"
        },
        {
         "name": "school_education_centers_raion",
         "rawType": "int64",
         "type": "integer"
        },
        {
         "name": "school_education_centers_top_20_raion",
         "rawType": "int64",
         "type": "integer"
        },
        {
         "name": "hospital_beds_raion",
         "rawType": "float64",
         "type": "float"
        },
        {
         "name": "healthcare_centers_raion",
         "rawType": "int64",
         "type": "integer"
        },
        {
         "name": "university_top_20_raion",
         "rawType": "int64",
         "type": "integer"
        },
        {
         "name": "sport_objects_raion",
         "rawType": "int64",
         "type": "integer"
        },
        {
         "name": "additional_education_raion",
         "rawType": "int64",
         "type": "integer"
        },
        {
         "name": "culture_objects_top_25_raion",
         "rawType": "int64",
         "type": "integer"
        },
        {
         "name": "shopping_centers_raion",
         "rawType": "int64",
         "type": "integer"
        },
        {
         "name": "office_raion",
         "rawType": "int64",
         "type": "integer"
        },
        {
         "name": "oil_chemistry_raion",
         "rawType": "object",
         "type": "string"
        },
        {
         "name": "railroad_terminal_raion",
         "rawType": "object",
         "type": "string"
        },
        {
         "name": "nuclear_reactor_raion",
         "rawType": "object",
         "type": "string"
        },
        {
         "name": "metro_min_avto",
         "rawType": "float64",
         "type": "float"
        },
        {
         "name": "metro_km_avto",
         "rawType": "float64",
         "type": "float"
        },
        {
         "name": "metro_min_walk",
         "rawType": "float64",
         "type": "float"
        },
        {
         "name": "metro_km_walk",
         "rawType": "float64",
         "type": "float"
        },
        {
         "name": "kindergarten_km",
         "rawType": "float64",
         "type": "float"
        },
        {
         "name": "school_km",
         "rawType": "float64",
         "type": "float"
        },
        {
         "name": "park_km",
         "rawType": "float64",
         "type": "float"
        },
        {
         "name": "green_zone_km",
         "rawType": "float64",
         "type": "float"
        },
        {
         "name": "industrial_km",
         "rawType": "float64",
         "type": "float"
        },
        {
         "name": "railroad_station_walk_km",
         "rawType": "float64",
         "type": "float"
        },
        {
         "name": "railroad_station_walk_min",
         "rawType": "float64",
         "type": "float"
        },
        {
         "name": "public_transport_station_km",
         "rawType": "float64",
         "type": "float"
        },
        {
         "name": "public_transport_station_min_walk",
         "rawType": "float64",
         "type": "float"
        },
        {
         "name": "mkad_km",
         "rawType": "float64",
         "type": "float"
        },
        {
         "name": "ttk_km",
         "rawType": "float64",
         "type": "float"
        },
        {
         "name": "sadovoe_km",
         "rawType": "float64",
         "type": "float"
        },
        {
         "name": "bulvar_ring_km",
         "rawType": "float64",
         "type": "float"
        },
        {
         "name": "kremlin_km",
         "rawType": "float64",
         "type": "float"
        },
        {
         "name": "big_road1_1line",
         "rawType": "object",
         "type": "string"
        },
        {
         "name": "big_market_km",
         "rawType": "float64",
         "type": "float"
        },
        {
         "name": "market_shop_km",
         "rawType": "float64",
         "type": "float"
        },
        {
         "name": "fitness_km",
         "rawType": "float64",
         "type": "float"
        },
        {
         "name": "swim_pool_km",
         "rawType": "float64",
         "type": "float"
        },
        {
         "name": "ice_rink_km",
         "rawType": "float64",
         "type": "float"
        },
        {
         "name": "stadium_km",
         "rawType": "float64",
         "type": "float"
        },
        {
         "name": "basketball_km",
         "rawType": "float64",
         "type": "float"
        },
        {
         "name": "hospice_morgue_km",
         "rawType": "float64",
         "type": "float"
        },
        {
         "name": "university_km",
         "rawType": "float64",
         "type": "float"
        },
        {
         "name": "workplaces_km",
         "rawType": "float64",
         "type": "float"
        },
        {
         "name": "shopping_centers_km",
         "rawType": "float64",
         "type": "float"
        },
        {
         "name": "office_km",
         "rawType": "float64",
         "type": "float"
        },
        {
         "name": "additional_education_km",
         "rawType": "float64",
         "type": "float"
        },
        {
         "name": "preschool_km",
         "rawType": "float64",
         "type": "float"
        },
        {
         "name": "big_church_km",
         "rawType": "float64",
         "type": "float"
        },
        {
         "name": "church_synagogue_km",
         "rawType": "float64",
         "type": "float"
        },
        {
         "name": "theater_km",
         "rawType": "float64",
         "type": "float"
        },
        {
         "name": "museum_km",
         "rawType": "float64",
         "type": "float"
        },
        {
         "name": "ecology",
         "rawType": "object",
         "type": "string"
        },
        {
         "name": "mosque_count_1000",
         "rawType": "int64",
         "type": "integer"
        },
        {
         "name": "price_doc",
         "rawType": "int64",
         "type": "integer"
        }
       ],
       "ref": "8d06bf05-2918-4f42-a9fd-1208fc70ee7f",
       "rows": [
        [
         "23584",
         "23587",
         "57",
         "33.0",
         "77.0",
         "Lomonosovskoe",
         "3091.0",
         "5",
         "8359.0",
         "7",
         "1",
         "46.0",
         "1",
         "0",
         "6",
         "4",
         "0",
         "1",
         "4",
         "no",
         "no",
         "no",
         "3.038343064",
         "1.968678208",
         "23.6241385",
         "1.968678208",
         "0.17134062",
         "0.3890901",
         "0.863540425",
         "0.223337813",
         "1.004352644",
         "6.971668399",
         "83.66002079",
         "0.206799518",
         "2.481594212",
         "5.81195551",
         "5.191262902",
         "7.989246001",
         "9.10198377",
         "9.851503934",
         "no",
         "6.221886069",
         "3.268157441",
         "0.489491997",
         "1.506392028",
         "6.336601169",
         "3.427904034",
         "1.117177131",
         "2.176556714",
         "2.655778889",
         "2.848308691",
         "0.749363492",
         "0.310557257",
         "0.731683415",
         "0.489762691",
         "0.863540425",
         "0.863265845",
         "2.920671323",
         "2.757057709",
         "satisfactory",
         "0",
         "13700000"
        ]
       ],
       "shape": {
        "columns": 61,
        "rows": 1
       }
      },
      "text/html": [
       "<div>\n",
       "<style scoped>\n",
       "    .dataframe tbody tr th:only-of-type {\n",
       "        vertical-align: middle;\n",
       "    }\n",
       "\n",
       "    .dataframe tbody tr th {\n",
       "        vertical-align: top;\n",
       "    }\n",
       "\n",
       "    .dataframe thead th {\n",
       "        text-align: right;\n",
       "    }\n",
       "</style>\n",
       "<table border=\"1\" class=\"dataframe\">\n",
       "  <thead>\n",
       "    <tr style=\"text-align: right;\">\n",
       "      <th></th>\n",
       "      <th>id</th>\n",
       "      <th>full_sq</th>\n",
       "      <th>life_sq</th>\n",
       "      <th>floor</th>\n",
       "      <th>sub_area</th>\n",
       "      <th>preschool_quota</th>\n",
       "      <th>preschool_education_centers_raion</th>\n",
       "      <th>school_quota</th>\n",
       "      <th>school_education_centers_raion</th>\n",
       "      <th>school_education_centers_top_20_raion</th>\n",
       "      <th>...</th>\n",
       "      <th>office_km</th>\n",
       "      <th>additional_education_km</th>\n",
       "      <th>preschool_km</th>\n",
       "      <th>big_church_km</th>\n",
       "      <th>church_synagogue_km</th>\n",
       "      <th>theater_km</th>\n",
       "      <th>museum_km</th>\n",
       "      <th>ecology</th>\n",
       "      <th>mosque_count_1000</th>\n",
       "      <th>price_doc</th>\n",
       "    </tr>\n",
       "  </thead>\n",
       "  <tbody>\n",
       "    <tr>\n",
       "      <th>23584</th>\n",
       "      <td>23587</td>\n",
       "      <td>57</td>\n",
       "      <td>33.0</td>\n",
       "      <td>77.0</td>\n",
       "      <td>Lomonosovskoe</td>\n",
       "      <td>3091.0</td>\n",
       "      <td>5</td>\n",
       "      <td>8359.0</td>\n",
       "      <td>7</td>\n",
       "      <td>1</td>\n",
       "      <td>...</td>\n",
       "      <td>0.310557</td>\n",
       "      <td>0.731683</td>\n",
       "      <td>0.489763</td>\n",
       "      <td>0.86354</td>\n",
       "      <td>0.863266</td>\n",
       "      <td>2.920671</td>\n",
       "      <td>2.757058</td>\n",
       "      <td>satisfactory</td>\n",
       "      <td>0</td>\n",
       "      <td>13700000</td>\n",
       "    </tr>\n",
       "  </tbody>\n",
       "</table>\n",
       "<p>1 rows × 61 columns</p>\n",
       "</div>"
      ],
      "text/plain": [
       "          id  full_sq  life_sq  floor       sub_area  preschool_quota  \\\n",
       "23584  23587       57     33.0   77.0  Lomonosovskoe           3091.0   \n",
       "\n",
       "       preschool_education_centers_raion  school_quota  \\\n",
       "23584                                  5        8359.0   \n",
       "\n",
       "       school_education_centers_raion  school_education_centers_top_20_raion  \\\n",
       "23584                               7                                      1   \n",
       "\n",
       "       ...  office_km  additional_education_km  preschool_km  big_church_km  \\\n",
       "23584  ...   0.310557                 0.731683      0.489763        0.86354   \n",
       "\n",
       "       church_synagogue_km  theater_km  museum_km       ecology  \\\n",
       "23584             0.863266    2.920671   2.757058  satisfactory   \n",
       "\n",
       "      mosque_count_1000 price_doc  \n",
       "23584                 0  13700000  \n",
       "\n",
       "[1 rows x 61 columns]"
      ]
     },
     "execution_count": 90,
     "metadata": {},
     "output_type": "execute_result"
    }
   ],
   "source": [
    "sber_data[sber_data['floor']> 50]"
   ]
  },
  {
   "cell_type": "markdown",
   "id": "89c46668",
   "metadata": {},
   "source": [
    "Всего одна квартира в Ломоносовском районе. Пора идти в интернет в поиске самых высоких зданий в Москве! \n",
    "\n",
    "Убеждаемся в том, что здания выше 70 этажей находятся на территории комплекса Москва-Сити (Пресненский район). В Ломоносовском районе таких жилых высоток нет. Получается, что данное наблюдение — выброс."
   ]
  },
  {
   "cell_type": "markdown",
   "id": "92a98cd2-1e85-4063-92e2-fb9eee803412",
   "metadata": {},
   "source": [
    "**2. Метод межквартильного размаха**"
   ]
  },
  {
   "cell_type": "markdown",
   "id": "d7351abe",
   "metadata": {},
   "source": [
    "Данный метод относится к категории статистических и реализован в виде отдельной python-функции в дирректории find_outliers в файле find_outliers.py.\n",
    "\n",
    "Подробнее о методе можно в файле [README.md](./find_outliers/README.md)"
   ]
  },
  {
   "cell_type": "code",
   "execution_count": 91,
   "id": "d1176bdc",
   "metadata": {},
   "outputs": [
    {
     "ename": "ImportError",
     "evalue": "cannot import name 'find_outliers_iqr' from 'outliers_lib.find_outliers' (d:\\idi\\DATACLEANINGPROJECT\\outliers_lib\\find_outliers.py)",
     "output_type": "error",
     "traceback": [
      "\u001b[1;31m---------------------------------------------------------------------------\u001b[0m",
      "\u001b[1;31mImportError\u001b[0m                               Traceback (most recent call last)",
      "Cell \u001b[1;32mIn[91], line 1\u001b[0m\n\u001b[1;32m----> 1\u001b[0m \u001b[38;5;28;01mfrom\u001b[39;00m \u001b[38;5;21;01moutliers_lib\u001b[39;00m\u001b[38;5;21;01m.\u001b[39;00m\u001b[38;5;21;01mfind_outliers\u001b[39;00m \u001b[38;5;28;01mimport\u001b[39;00m find_outliers_iqr\n",
      "\u001b[1;31mImportError\u001b[0m: cannot import name 'find_outliers_iqr' from 'outliers_lib.find_outliers' (d:\\idi\\DATACLEANINGPROJECT\\outliers_lib\\find_outliers.py)"
     ]
    }
   ],
   "source": [
    "from outliers_lib.find_outliers import find_outliers_iqr"
   ]
  },
  {
   "cell_type": "markdown",
   "id": "a81dfd94",
   "metadata": {},
   "source": [
    "На гистограмме мы можем увидеть потенциальные выбросы как низкие далеко отстоящие от основной группы столбцов «пеньки», а на коробчатой диаграмме — точки за пределами усов.\n",
    "\n",
    "Построим гистограмму и коробчатую диаграмму для признака полной площади (full_sq):"
   ]
  },
  {
   "cell_type": "code",
   "execution_count": null,
   "id": "9b8c8709-2ec5-4972-9dd1-9d8abe8d1ba6",
   "metadata": {},
   "outputs": [
    {
     "data": {
      "image/png": "[encoded data removed]",
      "text/plain": [
       "<Figure size 1080x288 with 2 Axes>"
      ]
     },
     "metadata": {
      "needs_background": "light"
     },
     "output_type": "display_data"
    }
   ],
   "source": [
    "fig, axes = plt.subplots(nrows=1, ncols=2, figsize=(15, 4))\n",
    "histplot = sns.histplot(data=sber_data, x='full_sq', ax=axes[0]);\n",
    "histplot.set_title('Full Square Distribution');\n",
    "boxplot = sns.boxplot(data=sber_data, x='full_sq', ax=axes[1]);\n",
    "boxplot.set_title('Full Square Boxplot');"
   ]
  },
  {
   "cell_type": "markdown",
   "id": "0c3b92bd",
   "metadata": {},
   "source": [
    "Основная масса квартир имеет общую площадь менее 250 квадратных метров, и лишь несколько невзрачных наблюдений выбиваются из этого интервала. Максимальная площадь, судя по гистограмме, превышает 5 000 квадратных метров."
   ]
  },
  {
   "cell_type": "markdown",
   "id": "234e5665",
   "metadata": {},
   "source": [
    "Данные не являются нормально-распределенными, распределение даже не является симметричным. Попробуем логарифмировать признак:"
   ]
  },
  {
   "cell_type": "code",
   "execution_count": null,
   "id": "f655c6cb-47c1-435a-a315-02732d1e6573",
   "metadata": {},
   "outputs": [
    {
     "data": {
      "image/png": "[encoded data removed]",
      "text/plain": [
       "<Figure size 1080x288 with 2 Axes>"
      ]
     },
     "metadata": {
      "needs_background": "light"
     },
     "output_type": "display_data"
    }
   ],
   "source": [
    "fig, axes = plt.subplots(nrows=1, ncols=2, figsize=(15, 4))\n",
    "histplot = sns.histplot(data=sber_data, x=np.log(sber_data['full_sq']+1), ax=axes[0]);\n",
    "histplot.set_title('Full Square Distribution');\n",
    "boxplot = sns.boxplot(data=sber_data, x=np.log(sber_data['full_sq']+1), ax=axes[1]);\n",
    "boxplot.set_title('Full Square Boxplot');"
   ]
  },
  {
   "cell_type": "markdown",
   "id": "810049d8",
   "metadata": {},
   "source": [
    "С помощью логарифмирования удалось добиться подобия симметрии в данных."
   ]
  },
  {
   "cell_type": "markdown",
   "id": "f04b81ef",
   "metadata": {},
   "source": [
    "Воспользуемся методом межквартильного размаха с предварительным логарифмированием и 2-мя размахами в левую и правую сторону распределения. "
   ]
  },
  {
   "cell_type": "code",
   "execution_count": null,
   "id": "471ce824-f066-450f-b11d-8335d4d2d385",
   "metadata": {},
   "outputs": [
    {
     "name": "stdout",
     "output_type": "stream",
     "text": [
      "Число выбросов по методу Тьюки: 111\n",
      "Результирующее число записей: 30360\n"
     ]
    }
   ],
   "source": [
    "outliers, cleaned = find_outliers_iqr(sber_data, 'full_sq', left=2, right=2, log_scale=True)\n",
    "print(f'Число выбросов по методу Тьюки: {outliers.shape[0]}')\n",
    "print(f'Результирующее число записей: {cleaned.shape[0]}')"
   ]
  },
  {
   "cell_type": "markdown",
   "id": "6630817b",
   "metadata": {},
   "source": [
    "Посмотрим на распределение после удаления выбросов:"
   ]
  },
  {
   "cell_type": "code",
   "execution_count": null,
   "id": "6038d224-9d63-428b-a051-5f23fd38fabe",
   "metadata": {},
   "outputs": [
    {
     "data": {
      "image/png": "[encoded data removed]",
      "text/plain": [
       "<Figure size 1080x288 with 2 Axes>"
      ]
     },
     "metadata": {
      "needs_background": "light"
     },
     "output_type": "display_data"
    }
   ],
   "source": [
    "fig, axes = plt.subplots(nrows=1, ncols=2, figsize=(15, 4))\n",
    "histplot = sns.histplot(data=cleaned, x='full_sq', ax=axes[0]);\n",
    "histplot.set_title('Cleaned Full Square Distribution');\n",
    "boxplot = sns.boxplot(data=cleaned, x='full_sq', ax=axes[1]);\n",
    "boxplot.set_title('Cleaned Full Square Boxplot');"
   ]
  },
  {
   "cell_type": "markdown",
   "id": "884b3992-766f-4d40-b0b4-a99fc4c90ec7",
   "metadata": {},
   "source": [
    "**3. Метод z-отклонений**"
   ]
  },
  {
   "cell_type": "markdown",
   "id": "829d6b69",
   "metadata": {},
   "source": [
    "Данный метод также относится к категории статистических и реализован в виде отдельной python-функции в дирректории find_outliers в файле find_outliers.py.\n",
    "\n",
    "Подробнее о методе можно в файле [README.md](./find_outliers/README.md)"
   ]
  },
  {
   "cell_type": "code",
   "execution_count": null,
   "id": "521e532f",
   "metadata": {},
   "outputs": [],
   "source": [
    "from outliers_lib.find_outliers import find_outliers_z_score"
   ]
  },
  {
   "cell_type": "markdown",
   "id": "9b0b1546",
   "metadata": {},
   "source": [
    "Построим две гистограммы признака расстояния до МКАД (mkad_km): первая — в обычном масштабе, а вторая — в логарифмическом."
   ]
  },
  {
   "cell_type": "code",
   "execution_count": null,
   "id": "5117abb1-2f79-4d85-9e7d-54c751f164fe",
   "metadata": {},
   "outputs": [
    {
     "data": {
      "image/png": "[encoded data removed]",
      "text/plain": [
       "<Figure size 1080x288 with 2 Axes>"
      ]
     },
     "metadata": {
      "needs_background": "light"
     },
     "output_type": "display_data"
    }
   ],
   "source": [
    "fig, axes = plt.subplots(1, 2, figsize=(15, 4))\n",
    "histplot = sns.histplot(sber_data['mkad_km'], bins=30, ax=axes[0])\n",
    "histplot.set_title('MKAD Km Distribution');\n",
    "\n",
    "log_mkad_km = np.log(sber_data['mkad_km'] + 1)\n",
    "histplot = sns.histplot(log_mkad_km, bins=30, ax=axes[1])\n",
    "histplot.set_title('Log MKAD Km Distribution');"
   ]
  },
  {
   "cell_type": "markdown",
   "id": "fdd98f0b",
   "metadata": {},
   "source": [
    "Левое распределение напоминает логнормальное распределение с наличием потенциальных выбросов-«пеньков», далеко отстоящих от основной массы наблюдений.\n",
    "\n",
    "Взяв натуральный логарифм от левого распределения, мы получаем правое, которое напоминает слегка перекошенное нормальное."
   ]
  },
  {
   "cell_type": "markdown",
   "id": "3cd389f7",
   "metadata": {},
   "source": [
    "Воспользуемся методом z отклонений с предварительным логарифмированием:"
   ]
  },
  {
   "cell_type": "code",
   "execution_count": null,
   "id": "35e16fbb",
   "metadata": {},
   "outputs": [
    {
     "name": "stdout",
     "output_type": "stream",
     "text": [
      "Число выбросов по методу z-отклонения: 33\n",
      "Результирующее число записей: 30438\n"
     ]
    }
   ],
   "source": [
    "outliers, cleaned = find_outliers_z_score(sber_data, 'mkad_km', log_scale=True)\n",
    "print(f'Число выбросов по методу z-отклонения: {outliers.shape[0]}')\n",
    "print(f'Результирующее число записей: {cleaned.shape[0]}')"
   ]
  },
  {
   "cell_type": "markdown",
   "id": "b86f28d8",
   "metadata": {},
   "source": [
    "Построим гистограмму очищенных данных:"
   ]
  },
  {
   "cell_type": "code",
   "execution_count": null,
   "id": "422e0a1f",
   "metadata": {},
   "outputs": [
    {
     "data": {
      "image/png": "[encoded data removed]",
      "text/plain": [
       "<Figure size 720x288 with 1 Axes>"
      ]
     },
     "metadata": {
      "needs_background": "light"
     },
     "output_type": "display_data"
    }
   ],
   "source": [
    "fig = plt.figure(figsize=(10, 4))\n",
    "histplot = sns.histplot(cleaned['mkad_km'], bins=30)\n",
    "histplot.set_title('Sqrt Kremlin Km Distribution');"
   ]
  },
  {
   "cell_type": "markdown",
   "id": "bd5d81b0",
   "metadata": {},
   "source": [
    "Итак, метод z-отклонения нашел нам 33 потенциальных выброса по признаку расстояния до МКАД. Узнаем, в каких районах (sub_area) представлены эти квартиры:"
   ]
  },
  {
   "cell_type": "code",
   "execution_count": null,
   "id": "024d8575",
   "metadata": {},
   "outputs": [
    {
     "name": "stdout",
     "output_type": "stream",
     "text": [
      "['Poselenie Rogovskoe' 'Poselenie Kievskij']\n"
     ]
    }
   ],
   "source": [
    "print(outliers['sub_area'].unique())"
   ]
  },
  {
   "cell_type": "markdown",
   "id": "294cd3f4",
   "metadata": {},
   "source": [
    "Наши потенциальные выбросы — это квартиры из поселений «Роговское» и «Киевский». Снова обращаемся к силе интернета и «пробиваем» наших подозреваемых. Эти поселения — самые удалённые районы Московской области; первое из них — это и вовсе граница с Калужской областью. \n",
    "\n",
    "И тут возникает закономерный вопрос: а стоит ли считать такие наблюдения за выбросы? \n",
    "\n",
    "Вопрос в действительности не имеет определенного ответа: с одной стороны, метод прямо-таки говорит нам об этом, а с другой — эти наблюдения имеют право на существование, ведь они являются частью Московской области."
   ]
  },
  {
   "cell_type": "markdown",
   "id": "fa12901e",
   "metadata": {},
   "source": [
    "Возможно, мы не учли того факта, что наш логарифм распределения всё-таки не идеально нормален и в нём присутствует некоторая асимметрия. Возможно, стоит дать некоторое «послабление» на границы интервалов? Давайте отдельно построим гистограмму прологарифмированного распределения, а также отобразим на гистограмме вертикальные линии, соответствующие среднему (центру интервала в методе трёх сигм) и границы интервала "
   ]
  },
  {
   "cell_type": "code",
   "execution_count": null,
   "id": "aeda8d23-474c-4974-a166-af38d42e9b66",
   "metadata": {},
   "outputs": [
    {
     "data": {
      "image/png": "[encoded data removed]",
      "text/plain": [
       "<Figure size 576x288 with 1 Axes>"
      ]
     },
     "metadata": {
      "needs_background": "light"
     },
     "output_type": "display_data"
    }
   ],
   "source": [
    "fig, ax = plt.subplots(1, 1, figsize=(8, 4))\n",
    "log_mkad_km = np.log(sber_data['mkad_km'] + 1)\n",
    "histplot = sns.histplot(log_mkad_km, bins=30, ax=ax)\n",
    "histplot.axvline(log_mkad_km.mean(), color='k', lw=2)\n",
    "histplot.axvline(log_mkad_km.mean() + 3 *log_mkad_km.std(), color='k', ls='--', lw=2)\n",
    "histplot.axvline(log_mkad_km.mean() - 3 *log_mkad_km.std(), color='k', ls='--', lw=2)\n",
    "histplot.set_title('Log MKAD Km Distribution');"
   ]
  },
  {
   "cell_type": "markdown",
   "id": "6705e6b9",
   "metadata": {},
   "source": [
    "Ассиметрия распределения является левой. В этом можно убедиться, вычислив коэффициент ассиметрии:"
   ]
  },
  {
   "cell_type": "code",
   "execution_count": null,
   "id": "ab90819f",
   "metadata": {},
   "outputs": [
    {
     "name": "stdout",
     "output_type": "stream",
     "text": [
      "-0.14263612203024953\n"
     ]
    }
   ],
   "source": [
    "print(log_mkad_km.skew())"
   ]
  },
  {
   "cell_type": "markdown",
   "id": "1e5940b7",
   "metadata": {},
   "source": [
    "Из графика видно, что из-за левой ассиметриии 3ех сигм не достаточно, чтобы покрыть весь интервал. Увеличим значения границ:"
   ]
  },
  {
   "cell_type": "code",
   "execution_count": null,
   "id": "cc4b5c02",
   "metadata": {},
   "outputs": [
    {
     "name": "stdout",
     "output_type": "stream",
     "text": [
      "Число выбросов по методу z-отклонения: 0\n",
      "Результирующее число записей: 30471\n"
     ]
    }
   ],
   "source": [
    "outliers, cleaned = find_outliers_z_score(sber_data, 'mkad_km', log_scale=True, right=3.5)\n",
    "print(f'Число выбросов по методу z-отклонения: {outliers.shape[0]}')\n",
    "print(f'Результирующее число записей: {cleaned.shape[0]}')"
   ]
  },
  {
   "cell_type": "markdown",
   "id": "859b3bea",
   "metadata": {},
   "source": [
    "Стоило нам немного увеличить правую границу метода z-отклонений, как мы получили отсутствие выбросов в признаке."
   ]
  },
  {
   "cell_type": "code",
   "execution_count": null,
   "id": "a2c98779",
   "metadata": {},
   "outputs": [
    {
     "ename": "ImportError",
     "evalue": "cannot import name 'find_outliers_quantile' from 'outliers_lib.find_outliers' (d:\\idi\\DATACLEANINGPROJECT\\outliers_lib\\find_outliers.py)",
     "output_type": "error",
     "traceback": [
      "\u001b[1;31m---------------------------------------------------------------------------\u001b[0m",
      "\u001b[1;31mImportError\u001b[0m                               Traceback (most recent call last)",
      "Cell \u001b[1;32mIn[67], line 1\u001b[0m\n\u001b[1;32m----> 1\u001b[0m \u001b[38;5;28;01mfrom\u001b[39;00m \u001b[38;5;21;01moutliers_lib\u001b[39;00m\u001b[38;5;21;01m.\u001b[39;00m\u001b[38;5;21;01mfind_outliers\u001b[39;00m \u001b[38;5;28;01mimport\u001b[39;00m find_outliers_quantile\n\u001b[0;32m      3\u001b[0m outliers, cleaned \u001b[38;5;241m=\u001b[39m find_outliers_quantile(sber_data, \u001b[38;5;124m'\u001b[39m\u001b[38;5;124mmkad_km\u001b[39m\u001b[38;5;124m'\u001b[39m)\n\u001b[0;32m      4\u001b[0m \u001b[38;5;28mprint\u001b[39m(\u001b[38;5;124mf\u001b[39m\u001b[38;5;124m'\u001b[39m\u001b[38;5;124mЧисло выбросов: \u001b[39m\u001b[38;5;132;01m{\u001b[39;00moutliers\u001b[38;5;241m.\u001b[39mshape[\u001b[38;5;241m0\u001b[39m]\u001b[38;5;132;01m}\u001b[39;00m\u001b[38;5;124m'\u001b[39m)\n",
      "\u001b[1;31mImportError\u001b[0m: cannot import name 'find_outliers_quantile' from 'outliers_lib.find_outliers' (d:\\idi\\DATACLEANINGPROJECT\\outliers_lib\\find_outliers.py)"
     ]
    }
   ],
   "source": [
    "from outliers_lib.find_outliers import find_outliers_quantile\n",
    "\n",
    "outliers, cleaned = find_outliers_quantile(sber_data, 'mkad_km')\n",
    "print(f'Число выбросов: {outliers.shape[0]}')\n",
    "print(f'Результирующее число записей: {cleaned.shape[0]}')"
   ]
  },
  {
   "cell_type": "markdown",
   "id": "bc2c54f4",
   "metadata": {},
   "source": [
    "### Поиск и ликвидация дубликатов"
   ]
  },
  {
   "cell_type": "markdown",
   "id": "d32f4147",
   "metadata": {},
   "source": [
    "Способ обнаружения дубликатов зависит от того, что именно вы считаете дубликатом. Например, за дубликаты можно посчитать записи, у которых совпадают все признаки или их часть. Если в таблице есть столбец с уникальным идентификатором (id), вы можете попробовать поискать дубликаты по нему: одинаковые записи могут иметь одинаковый id.\n",
    "\n",
    "Проверим, есть у нас такие записи: для этого сравним число уникальных значений в столбце id с числом строк. Число уникальных значений вычислим с помощью метода nunique():"
   ]
  },
  {
   "cell_type": "code",
   "execution_count": null,
   "id": "01146244-586f-4033-8498-ce7a79d08888",
   "metadata": {},
   "outputs": [
    {
     "data": {
      "text/plain": [
       "True"
      ]
     },
     "execution_count": 37,
     "metadata": {},
     "output_type": "execute_result"
    }
   ],
   "source": [
    "sber_data['id'].nunique() == sber_data.shape[0]"
   ]
  },
  {
   "cell_type": "markdown",
   "id": "9330a309",
   "metadata": {},
   "source": [
    "Вроде бы всё в порядке: каждой записи в таблице соответствует свой уникальный идентификатор. Но это ещё не означает, что в таблице нет дубликатов!"
   ]
  },
  {
   "cell_type": "markdown",
   "id": "dcd32c3c",
   "metadata": {},
   "source": [
    "Столбец с id задаёт каждой строке свой уникальный номер, поэтому сама по себе каждая строка является уникальной. Однако содержимое других столбцов может повторяться."
   ]
  },
  {
   "cell_type": "markdown",
   "id": "ec762d2c",
   "metadata": {},
   "source": [
    " Найдём число полных дубликатов таблице sber_data. Предварительно создадим список столбцов dupl_columns, по которым будем искать совпадения (все столбцы, не включая id). "
   ]
  },
  {
   "cell_type": "code",
   "execution_count": null,
   "id": "81c068e6",
   "metadata": {},
   "outputs": [
    {
     "name": "stdout",
     "output_type": "stream",
     "text": [
      "Число найденных дубликатов: 562\n"
     ]
    }
   ],
   "source": [
    "dupl_columns = list(sber_data.columns)\n",
    "dupl_columns.remove('id')\n",
    "\n",
    "mask = sber_data.duplicated(subset=dupl_columns)\n",
    "sber_duplicates = sber_data[mask]\n",
    "print(f'Число найденных дубликатов: {sber_duplicates.shape[0]}')"
   ]
  },
  {
   "cell_type": "markdown",
   "id": "98fd9e1c",
   "metadata": {},
   "source": [
    "Итак, 562 строки в таблице являются полными копиями других записей. Теперь нам необходимо от них избавиться."
   ]
  },
  {
   "cell_type": "code",
   "execution_count": null,
   "id": "4710eed0",
   "metadata": {},
   "outputs": [
    {
     "name": "stdout",
     "output_type": "stream",
     "text": [
      "Результирующее число записей: 29909\n"
     ]
    }
   ],
   "source": [
    "sber_dedupped = sber_data.drop_duplicates(subset=dupl_columns)\n",
    "print(f'Результирующее число записей: {sber_dedupped.shape[0]}')"
   ]
  },
  {
   "cell_type": "code",
   "execution_count": null,
   "id": "58678dc1",
   "metadata": {},
   "outputs": [],
   "source": []
  }
 ],
 "metadata": {
  "kernelspec": {
   "display_name": "Python 3",
   "language": "python",
   "name": "python3"
  },
  "language_info": {
   "codemirror_mode": {
    "name": "ipython",
    "version": 3
   },
   "file_extension": ".py",
   "mimetype": "text/x-python",
   "name": "python",
   "nbconvert_exporter": "python",
   "pygments_lexer": "ipython3",
   "version": "3.11.9"
  }
 },
 "nbformat": 4,
 "nbformat_minor": 5
}
